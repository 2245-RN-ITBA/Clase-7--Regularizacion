{
 "cells": [
  {
   "cell_type": "markdown",
   "metadata": {},
   "source": [
    "(intro godzilla con papa moscas y mosca con bazooka)\n",
    "¿Cuál modelo es mejor?\n",
    "<img src=\"two_models.png\" alt=\"Drawing\" style=\"width:60%;\"/>"
   ]
  },
  {
   "cell_type": "markdown",
   "metadata": {},
   "source": [
    "<img src=\"three_models.png\" alt=\"Drawing\" style=\"width:60%;\"/>"
   ]
  },
  {
   "cell_type": "markdown",
   "metadata": {},
   "source": [
    "¿Qué comportamiento tienen un modelo de alto bias vs un modelo de alta varianza en train? ¿Y en test?\n",
    "\n",
    "Entre un pantalón que me queda chico y uno que me queda grande, ¿cuál elijo? \n",
    "\n",
    "Elegimos el que queda grande y buscamos soluciones, como un cinturón.\n",
    "\n",
    "Vamos a buscar sobreajustar el modelo para luego usar distintas técnicas que nos permiten controlar el overfitting.\n",
    "\n",
    "Intuición: ¿Cuándo hay más overfitting?\n",
    "\n",
    "Pocas observaciones - Muchas observaciones\n",
    "\n",
    "Pocos parámetros - Muchos parámetros \n",
    "\n",
    "Pocas epochs - Muchas epochs\n"
   ]
  },
  {
   "cell_type": "markdown",
   "metadata": {},
   "source": [
    "## Cantidad de parámetros"
   ]
  },
  {
   "cell_type": "code",
   "execution_count": 4,
   "metadata": {},
   "outputs": [
    {
     "ename": "ModuleNotFoundError",
     "evalue": "No module named 'keras'",
     "output_type": "error",
     "traceback": [
      "\u001b[1;31m---------------------------------------------------------------------------\u001b[0m",
      "\u001b[1;31mModuleNotFoundError\u001b[0m                       Traceback (most recent call last)",
      "\u001b[1;32m<ipython-input-4-688f16c8cd77>\u001b[0m in \u001b[0;36m<module>\u001b[1;34m\u001b[0m\n\u001b[0;32m      3\u001b[0m \u001b[0mget_ipython\u001b[0m\u001b[1;33m(\u001b[0m\u001b[1;33m)\u001b[0m\u001b[1;33m.\u001b[0m\u001b[0mrun_line_magic\u001b[0m\u001b[1;33m(\u001b[0m\u001b[1;34m'matplotlib'\u001b[0m\u001b[1;33m,\u001b[0m \u001b[1;34m'inline'\u001b[0m\u001b[1;33m)\u001b[0m\u001b[1;33m\u001b[0m\u001b[1;33m\u001b[0m\u001b[0m\n\u001b[0;32m      4\u001b[0m \u001b[1;32mfrom\u001b[0m \u001b[0mIPython\u001b[0m\u001b[1;33m.\u001b[0m\u001b[0mdisplay\u001b[0m \u001b[1;32mimport\u001b[0m \u001b[0mHTML\u001b[0m\u001b[1;33m\u001b[0m\u001b[1;33m\u001b[0m\u001b[0m\n\u001b[1;32m----> 5\u001b[1;33m \u001b[1;32mimport\u001b[0m \u001b[0mreg_helper\u001b[0m \u001b[1;32mas\u001b[0m \u001b[0mRHelper\u001b[0m\u001b[1;33m\u001b[0m\u001b[1;33m\u001b[0m\u001b[0m\n\u001b[0m\u001b[0;32m      6\u001b[0m \u001b[1;32mimport\u001b[0m \u001b[0mdraw_nn\u001b[0m\u001b[1;33m\u001b[0m\u001b[1;33m\u001b[0m\u001b[0m\n",
      "\u001b[1;32m~\\Documents\\Repos\\Clase-7--Regularizacion\\reg_helper.py\u001b[0m in \u001b[0;36m<module>\u001b[1;34m\u001b[0m\n\u001b[0;32m    261\u001b[0m             size=40, horizontalalignment='right')\n\u001b[0;32m    262\u001b[0m \u001b[1;33m\u001b[0m\u001b[0m\n\u001b[1;32m--> 263\u001b[1;33m \u001b[1;32mfrom\u001b[0m \u001b[0mkeras\u001b[0m \u001b[1;32mimport\u001b[0m \u001b[0mregularizers\u001b[0m\u001b[1;33m\u001b[0m\u001b[1;33m\u001b[0m\u001b[0m\n\u001b[0m\u001b[0;32m    264\u001b[0m \u001b[1;32mfrom\u001b[0m \u001b[0mkeras\u001b[0m\u001b[1;33m.\u001b[0m\u001b[0mmodels\u001b[0m \u001b[1;32mimport\u001b[0m \u001b[0mSequential\u001b[0m\u001b[1;33m\u001b[0m\u001b[1;33m\u001b[0m\u001b[0m\n\u001b[0;32m    265\u001b[0m \u001b[1;32mfrom\u001b[0m \u001b[0mkeras\u001b[0m\u001b[1;33m.\u001b[0m\u001b[0mlayers\u001b[0m\u001b[1;33m.\u001b[0m\u001b[0mcore\u001b[0m \u001b[1;32mimport\u001b[0m \u001b[0mDense\u001b[0m\u001b[1;33m,\u001b[0m \u001b[0mDropout\u001b[0m\u001b[1;33m,\u001b[0m \u001b[0mActivation\u001b[0m\u001b[1;33m,\u001b[0m \u001b[0mFlatten\u001b[0m\u001b[1;33m\u001b[0m\u001b[1;33m\u001b[0m\u001b[0m\n",
      "\u001b[1;31mModuleNotFoundError\u001b[0m: No module named 'keras'"
     ]
    }
   ],
   "source": [
    "import numpy as np\n",
    "from matplotlib import pyplot as plt \n",
    "%matplotlib inline\n",
    "from IPython.display import HTML\n",
    "import reg_helper as RHelper\n",
    "import draw_nn\n"
   ]
  },
  {
   "cell_type": "code",
   "execution_count": null,
   "metadata": {},
   "outputs": [],
   "source": [
    "\n",
    "X_train = np.load('X_train.npy')\n",
    "X_test = np.load('X_test.npy')\n",
    "y_train = np.load('y_train.npy') \n",
    "y_test = np.load('y_test.npy')\n",
    "print('Cantidad de observaciones:')\n",
    "print('Train',X_train.shape[0])\n",
    "print('Test',X_test.shape[0])\n",
    "print('Dos variables de entrada. Dos clases de salida (binario)')\n",
    "f, (ax1, ax2) = plt.subplots(1, 2, figsize=(20,6))\n",
    "RHelper.plot_boundaries(X_train, y_train, ax=ax1)\n",
    "RHelper.plot_boundaries(X_test, y_test, ax=ax2)\n",
    "plt.show()"
   ]
  },
  {
   "cell_type": "markdown",
   "metadata": {},
   "source": [
    "**Regresión logística polinomial**"
   ]
  },
  {
   "cell_type": "markdown",
   "metadata": {},
   "source": [
    "El logit es una ecuación polinómica de las dos entradas. La cantidad de parámetros a ajustar depende del grado del polinomio.\n",
    "\n",
    "\\begin{equation}\n",
    "\\large\n",
    "a = w_0 + x_1w_1 + x_2w_2 + x_1x_2w_3 + w_4x_1^2 + w_5x_2^2 + ... + w_Nx_1^K\n",
    "\\end{equation}\n",
    "\\begin{equation}\n",
    "\\large\n",
    "y = \\sigma(a)\n",
    "\\end{equation}\n",
    "\n",
    "\n",
    "Ajustemos una recta (polinomio de grado 1)"
   ]
  },
  {
   "cell_type": "code",
   "execution_count": null,
   "metadata": {},
   "outputs": [],
   "source": [
    "tr_acc, ts_acc, coefs = RHelper.fit_and_get_regions(X_train, y_train, X_test, y_test, degree=1)\n",
    "print('Acurracy en train', tr_acc)\n",
    "print('Accuracy en test', ts_acc)\n",
    "print('Cantidad de parámetros', coefs.shape[1])\n"
   ]
  },
  {
   "cell_type": "code",
   "execution_count": null,
   "metadata": {},
   "outputs": [],
   "source": [
    "tr_acc, ts_acc, coefs = RHelper.fit_and_get_regions(X_train, y_train, X_test, y_test, degree=2)\n",
    "print('Acurracy en train', tr_acc)\n",
    "print('Accuracy en test', ts_acc)\n",
    "print('Cantidad de parámetros', coefs.shape[1])\n"
   ]
  },
  {
   "cell_type": "code",
   "execution_count": null,
   "metadata": {},
   "outputs": [],
   "source": [
    "tr_acc, ts_acc, coefs = RHelper.fit_and_get_regions(X_train, y_train, X_test, y_test, degree=6)\n",
    "print('Acurracy en train', tr_acc)\n",
    "print('Accuracy en test', ts_acc)\n",
    "print('Cantidad de parámetros', coefs.shape[1])\n"
   ]
  },
  {
   "cell_type": "code",
   "execution_count": null,
   "metadata": {},
   "outputs": [],
   "source": [
    "tr_acc, ts_acc, coefs = RHelper.fit_and_get_regions(X_train, y_train, X_test, y_test, degree=18)\n",
    "print('Acurracy en train', tr_acc)\n",
    "print('Accuracy en test', ts_acc)\n",
    "print('Cantidad de parámetros', coefs.shape[1])\n"
   ]
  },
  {
   "cell_type": "markdown",
   "metadata": {},
   "source": [
    "¿En qué modelo empezamos a sobreajustar? ¿Qué harían para elegir el mejor modelo?"
   ]
  },
  {
   "cell_type": "code",
   "execution_count": null,
   "metadata": {},
   "outputs": [],
   "source": [
    "options = [{'degree': 1, 'lambd': 0}, \n",
    "           {'degree': 2, 'lambd': 0}, \n",
    "           {'degree': 3, 'lambd': 0}, \n",
    "           {'degree': 4, 'lambd': 0}, \n",
    "           {'degree': 5, 'lambd': 0}, \n",
    "           {'degree': 6, 'lambd': 0}, \n",
    "           {'degree': 7, 'lambd': 0}, \n",
    "           {'degree': 8, 'lambd': 0}, \n",
    "           {'degree': 9, 'lambd': 0}, \n",
    "           {'degree': 10, 'lambd': 0},\n",
    "           {'degree': 11, 'lambd': 0},\n",
    "           {'degree': 12, 'lambd': 0},\n",
    "           {'degree': 13, 'lambd': 0},\n",
    "           {'degree': 14, 'lambd': 0}, \n",
    "           {'degree': 15, 'lambd': 0}, \n",
    "           {'degree': 16, 'lambd': 0}, \n",
    "           {'degree': 17, 'lambd': 0}, \n",
    "           {'degree': 18, 'lambd': 0}\n",
    "           ]\n",
    "degrees, lambdas, train_acc_array, test_acc_array, coefs_array_mean, coefs_array_std, coefs_abs_max, coefs_norm, coefs_num = RHelper.test_options(X_train, y_train, X_test, y_test, options, plot_it=False)"
   ]
  },
  {
   "cell_type": "code",
   "execution_count": null,
   "metadata": {},
   "outputs": [],
   "source": [
    "fig, ax = plt.subplots(figsize=(20,5))\n",
    "ax.plot(degrees, train_acc_array, label=\"Train\")\n",
    "ax.plot(degrees, test_acc_array, label=\"Test\")\n",
    "plt.title(\"Accuracies\")\n",
    "\n",
    "plt.xlabel('Orden del polinomio')\n",
    "plt.ylabel('Accuracy')\n",
    "ax.set_xticks(degrees)\n",
    "ax.legend()\n",
    "plt.show()"
   ]
  },
  {
   "cell_type": "code",
   "execution_count": null,
   "metadata": {},
   "outputs": [],
   "source": [
    "fig, ax = plt.subplots(figsize=(20,5))\n",
    "ax.plot(degrees, coefs_num)\n",
    "ax.legend()\n",
    "plt.xlabel('Orden del polinomio')\n",
    "plt.ylabel('Cantidad de parámetros')\n",
    "ax.set_xticks(degrees)\n",
    "plt.show()"
   ]
  },
  {
   "cell_type": "code",
   "execution_count": null,
   "metadata": {},
   "outputs": [],
   "source": [
    "plt.figure(figsize=(20,5))\n",
    "plt.ylabel(\"Norma de vector de pesos\")\n",
    "plt.plot(degrees, coefs_norm)\n",
    "plt.xlabel('Orden del polinomio')\n",
    "plt.legend()\n",
    "plt.show()"
   ]
  },
  {
   "cell_type": "markdown",
   "metadata": {},
   "source": [
    "## Regularización"
   ]
  },
  {
   "cell_type": "markdown",
   "metadata": {},
   "source": [
    "Recordemos la función de costo de entropía cruzada para una observación:\n",
    "\n",
    "$Loss = - \\sum_i [p_i  \\log(\\hat{p}_i) + (1-p_i) \\log(1-\\hat{p}_i)]$  \n",
    "\n",
    "donde: \n",
    "- $p_i$ solo puede valer 1 o 0. Vale 1 si pertenece a la clase $i$'esima, y 0 si no pertenece\n",
    "- $\\hat{p}_i$ es la estimación de la probabilidad de que $X_i$ pertenezca a la clase\n",
    "\n",
    "La regularización busca conseguir modelos más generalizables, es decir, con menor sobreajuste. Esto se logra mediante modelos con pesos bajos, que se obtienen penalizando los pesos altos. Para ello, se agrega un término a la función de costo que es función del módulo de los pesos.\n",
    "\n",
    "$Loss = - \\sum_i [p_i  \\log(\\hat{p}_i) + (1-p_i) \\log(1-\\hat{p}_i)] + f(\\mathbf {w})$  \n",
    "\n",
    "------------------------------------------------------------------------------------------------------------"
   ]
  },
  {
   "cell_type": "markdown",
   "metadata": {},
   "source": [
    "**LASSO**: normalización de norma L1\n",
    "\n",
    "$Loss = - \\sum_i [p_i  \\log(\\hat{p}_i) + (1-p_i) \\log(1-\\hat{p}_i)] + \\lambda  ||\\mathbf {w}||_1$ \n",
    "\n",
    "$||\\mathbf {w}||_1 = |w_1|+|w_2|+...+|w_n|$\n",
    "\n",
    "<img src=\"lasso_penalty.png\" alt=\"Drawing\" style=\"width:40%;\"/>\n",
    "\n",
    "La disminución en el valor de loss depende de cuánto cambie el valor de un peso, pero no depende del valor del peso. \n",
    "\n",
    "------------------------------------------------------------------------------------------------------"
   ]
  },
  {
   "cell_type": "markdown",
   "metadata": {},
   "source": [
    "**RIDGE**: normalización de norma L2\n",
    "\n",
    "$Loss = - \\sum_i [p_i  \\log(\\hat{p}_i) + (1-p_i) \\log(1-\\hat{p}_i)] + \\lambda   ||\\mathbf {w}||_2$ \n",
    "\n",
    "$||\\mathbf {w}||_2 = \\sqrt{w_1^2+w_2^2+...+w_n^2}$\n",
    "\n",
    "<img src=\"ridge_penalty.png\" alt=\"Drawing\" style=\"width:40%;\"/>\n",
    "\n",
    "\n",
    "La disminución en el valor de loss será distinta según el valor del peso "
   ]
  },
  {
   "cell_type": "code",
   "execution_count": null,
   "metadata": {},
   "outputs": [],
   "source": [
    "def plotBoundary(data, labels, clf_1, N=300,degree=False,include_bias=False):\n",
    "    class_1 = data[labels == 1]\n",
    "    class_0 = data[labels == 0]\n",
    "    mins = data[:,:2].min(axis=0)\n",
    "    maxs = data[:,:2].max(axis=0)\n",
    "    x1 = np.linspace(mins[0], maxs[0], N)\n",
    "\n",
    "    x1, x2 = np.meshgrid(x1, x2)\n",
    "    X=np.c_[x1.flatten(), x2.flatten()]\n",
    "    if degree:\n",
    "        poly=PolynomialFeatures(degree,include_bias=include_bias)\n",
    "        X=poly.fit_transform(X)\n",
    "    Z_nn = clf_1.predict_proba(X)[:, 0]\n",
    "\n",
    "    # Put the result into a color plot\n",
    "    Z_nn = Z_nn.reshape(x1.shape)\n",
    "    \n",
    "    fig = plt.figure(figsize=(20,10))\n",
    "    ax = fig.gca()\n",
    "    cm = plt.cm.RdBu\n",
    "        \n",
    "    ax.contour(x1, x2, Z_nn, (0.5,), colors='b', linewidths=1)\n",
    "    ax.scatter(class_1[:,0], class_1[:,1], color='b', s=20, alpha=0.5)\n",
    "    ax.scatter(class_0[:,0], class_0[:,1], color='r', s=20, alpha=0.5)\n",
    "    plt.show()"
   ]
  },
  {
   "cell_type": "markdown",
   "metadata": {},
   "source": [
    "**Práctica con Pesos y Alturas**"
   ]
  },
  {
   "cell_type": "code",
   "execution_count": 5,
   "metadata": {},
   "outputs": [],
   "source": [
    "import pandas as pd\n",
    "df = pd.read_csv('https://raw.githubusercontent.com/rn-2019-itba/Clase-4---LDA---QDA---RL---DT---RF/master/data/alturas-pesos-mils-train.csv')\n",
    "data = df[['Altura', 'Peso']].values\n",
    "y=np.array([0 if x=='Hombre' else 1 for x in df['Genero']])"
   ]
  },
  {
   "cell_type": "code",
   "execution_count": 6,
   "metadata": {},
   "outputs": [],
   "source": [
    "from sklearn.linear_model import LinearRegression, Lasso, Ridge, LogisticRegression\n",
    "from sklearn.model_selection import train_test_split\n",
    "X_train, X_test, y_train, y_test = train_test_split(data,y, test_size=0.4, shuffle=True, random_state=500)\n"
   ]
  },
  {
   "cell_type": "code",
   "execution_count": 7,
   "metadata": {},
   "outputs": [
    {
     "name": "stderr",
     "output_type": "stream",
     "text": [
      "C:\\Users\\UsuarioHI\\Anaconda3\\lib\\site-packages\\sklearn\\linear_model\\logistic.py:433: FutureWarning: Default solver will be changed to 'lbfgs' in 0.22. Specify a solver to silence this warning.\n",
      "  FutureWarning)\n"
     ]
    },
    {
     "data": {
      "text/plain": [
       "LogisticRegression(C=1.0, class_weight=None, dual=False, fit_intercept=True,\n",
       "          intercept_scaling=1, max_iter=100, multi_class='warn',\n",
       "          n_jobs=None, penalty='l2', random_state=None, solver='warn',\n",
       "          tol=0.0001, verbose=0, warm_start=False)"
      ]
     },
     "execution_count": 7,
     "metadata": {},
     "output_type": "execute_result"
    }
   ],
   "source": [
    "clf_sin_regu = LogisticRegression()\n",
    "clf_sin_regu.fit(X_train,y_train)"
   ]
  },
  {
   "cell_type": "code",
   "execution_count": 8,
   "metadata": {},
   "outputs": [
    {
     "data": {
      "text/plain": [
       "[<matplotlib.lines.Line2D at 0x9c0dba8>]"
      ]
     },
     "execution_count": 8,
     "metadata": {},
     "output_type": "execute_result"
    },
    {
     "data": {
      "image/png": "[encoded data removed]",
      "text/plain": [
       "<Figure size 432x288 with 1 Axes>"
      ]
     },
     "metadata": {
      "needs_background": "light"
     },
     "output_type": "display_data"
    }
   ],
   "source": [
    "fig = plt.figure()\n",
    "\n",
    "plt.scatter(data[y==0,0],data[y==0,1], marker='+')\n",
    "plt.scatter(data[y==1,0],data[y==1,1], c= 'green', marker='o')\n",
    "w = clf_sin_regu.coef_[0]\n",
    "a = -w[0] / w[1]\n",
    "xx = np.linspace(min(data[:,0]),max(data[:,0]), 100)\n",
    "yy = a * xx - (clf_sin_regu.intercept_[0]) / w[1]\n",
    "\n",
    "plt.plot(xx, yy, 'k-')"
   ]
  },
  {
   "cell_type": "code",
   "execution_count": 9,
   "metadata": {},
   "outputs": [],
   "source": [
    "def plotLinearBoundary(X,y,clf):\n",
    "    fig = plt.figure()\n",
    "    plt.scatter(X[y==0,0],X[y==0,1], marker='+')\n",
    "    plt.scatter(X[y==1,0],X[y==1,1], c= 'green', marker='o')\n",
    "    w = np.squeeze(clf.coef_)\n",
    "    a = -w[0] / w[1]\n",
    "    xx = np.linspace(min(X[:,0]),max(X[:,0]), 100)\n",
    "    yy = a * xx - (np.squeeze(clf.intercept_)) / w[1]\n",
    "\n",
    "    plt.plot(xx, yy, 'k-')"
   ]
  },
  {
   "cell_type": "code",
   "execution_count": 10,
   "metadata": {},
   "outputs": [
    {
     "data": {
      "image/png": "[encoded data removed]",
      "text/plain": [
       "<Figure size 432x288 with 1 Axes>"
      ]
     },
     "metadata": {
      "needs_background": "light"
     },
     "output_type": "display_data"
    }
   ],
   "source": [
    "clf_lasso = Lasso(alpha=0.01)\n",
    "clf_lasso.fit(X_train,y_train)\n",
    "plotLinearBoundary(X_train,y_train,clf_lasso)"
   ]
  },
  {
   "cell_type": "code",
   "execution_count": null,
   "metadata": {},
   "outputs": [],
   "source": [
    "clf_ridge = Ridge(alpha=0.1)\n",
    "clf_ridge.fit(X_train,y_train)\n",
    "\n",
    "plotLinearBoundary(X_train, y_train, clf_ridge)\n"
   ]
  },
  {
   "cell_type": "code",
   "execution_count": 13,
   "metadata": {},
   "outputs": [
    {
     "ename": "NameError",
     "evalue": "name 'keras' is not defined",
     "output_type": "error",
     "traceback": [
      "\u001b[1;31m---------------------------------------------------------------------------\u001b[0m",
      "\u001b[1;31mNameError\u001b[0m                                 Traceback (most recent call last)",
      "\u001b[1;32m<ipython-input-13-4945e34773fd>\u001b[0m in \u001b[0;36m<module>\u001b[1;34m\u001b[0m\n\u001b[1;32m----> 1\u001b[1;33m \u001b[1;32mimport\u001b[0m \u001b[0mhelper\u001b[0m\u001b[1;33m\u001b[0m\u001b[1;33m\u001b[0m\u001b[0m\n\u001b[0m\u001b[0;32m      2\u001b[0m \u001b[1;32mfrom\u001b[0m \u001b[0msklearn\u001b[0m\u001b[1;33m.\u001b[0m\u001b[0mpreprocessing\u001b[0m \u001b[1;32mimport\u001b[0m \u001b[0mPolynomialFeatures\u001b[0m\u001b[1;33m\u001b[0m\u001b[1;33m\u001b[0m\u001b[0m\n\u001b[0;32m      3\u001b[0m \u001b[0morder\u001b[0m \u001b[1;33m=\u001b[0m \u001b[1;36m3\u001b[0m\u001b[1;33m\u001b[0m\u001b[1;33m\u001b[0m\u001b[0m\n\u001b[0;32m      4\u001b[0m \u001b[0mpoly\u001b[0m \u001b[1;33m=\u001b[0m \u001b[0mPolynomialFeatures\u001b[0m\u001b[1;33m(\u001b[0m\u001b[0morder\u001b[0m\u001b[1;33m,\u001b[0m\u001b[0minclude_bias\u001b[0m\u001b[1;33m=\u001b[0m\u001b[1;32mTrue\u001b[0m\u001b[1;33m)\u001b[0m\u001b[1;33m\u001b[0m\u001b[1;33m\u001b[0m\u001b[0m\n\u001b[0;32m      5\u001b[0m \u001b[0mX_poly_train\u001b[0m \u001b[1;33m=\u001b[0m\u001b[0mpoly\u001b[0m\u001b[1;33m.\u001b[0m\u001b[0mfit_transform\u001b[0m\u001b[1;33m(\u001b[0m\u001b[0mX_train\u001b[0m\u001b[1;33m,\u001b[0m\u001b[1;33m)\u001b[0m\u001b[1;33m\u001b[0m\u001b[1;33m\u001b[0m\u001b[0m\n",
      "\u001b[1;32m~\\Documents\\Repos\\Clase-7--Regularizacion\\helper.py\u001b[0m in \u001b[0;36m<module>\u001b[1;34m\u001b[0m\n\u001b[0;32m     12\u001b[0m \u001b[1;33m\u001b[0m\u001b[0m\n\u001b[0;32m     13\u001b[0m \u001b[1;33m\u001b[0m\u001b[0m\n\u001b[1;32m---> 14\u001b[1;33m \u001b[1;32mclass\u001b[0m \u001b[0mlog_weights\u001b[0m\u001b[1;33m(\u001b[0m\u001b[0mkeras\u001b[0m\u001b[1;33m.\u001b[0m\u001b[0mcallbacks\u001b[0m\u001b[1;33m.\u001b[0m\u001b[0mCallback\u001b[0m\u001b[1;33m)\u001b[0m\u001b[1;33m:\u001b[0m\u001b[1;33m\u001b[0m\u001b[1;33m\u001b[0m\u001b[0m\n\u001b[0m\u001b[0;32m     15\u001b[0m     \"\"\"Callback that records events into a `History` object.\n\u001b[0;32m     16\u001b[0m     \u001b[0mThis\u001b[0m \u001b[0mcallback\u001b[0m \u001b[1;32mis\u001b[0m \u001b[0mautomatically\u001b[0m \u001b[0mapplied\u001b[0m \u001b[0mto\u001b[0m\u001b[1;33m\u001b[0m\u001b[1;33m\u001b[0m\u001b[0m\n",
      "\u001b[1;31mNameError\u001b[0m: name 'keras' is not defined"
     ]
    }
   ],
   "source": [
    "import helper \n",
    "from sklearn.preprocessing import PolynomialFeatures\n",
    "order = 3\n",
    "poly = PolynomialFeatures(order,include_bias=True)\n",
    "X_poly_train =poly.fit_transform(X_train,)\n",
    "lasso_poly = Lasso(alpha=0.1)\n",
    "lasso_poly.fit(X_poly_train,y_train)\n",
    "\n",
    "helper.plotBoundary(X, y, lasso_poly, 1000,degree=order,include_bias=False)"
   ]
  },
  {
   "cell_type": "code",
   "execution_count": 11,
   "metadata": {},
   "outputs": [
    {
     "name": "stdout",
     "output_type": "stream",
     "text": [
      "[[0 0]\n",
      " [1 0]\n",
      " [0 1]\n",
      " [2 0]\n",
      " [1 1]\n",
      " [0 2]]\n"
     ]
    }
   ],
   "source": [
    "from sklearn.preprocessing import PolynomialFeatures\n",
    "order = 2\n",
    "poly = PolynomialFeatures(order,include_bias=True)\n",
    "X_poly_train =poly.fit_transform(X_train,)\n",
    "clf_lasso = Lasso(alpha=0.1)\n",
    "clf_lasso.fit(X_poly_train,y_train)\n",
    "print(poly.powers_)"
   ]
  },
  {
   "cell_type": "code",
   "execution_count": null,
   "metadata": {},
   "outputs": [],
   "source": [
    "def plotLinearBoundary(X,y,clf,powers=None):\n",
    "    fig = plt.figure()\n",
    "    plt.scatter(X[y==0,0],X[y==0,1], marker='+')\n",
    "    plt.scatter(X[y==1,0],X[y==1,1], c= 'green', marker='o')\n",
    "    if powers is not None:\n",
    "        a = np.all(np.array([ powers[:,0]==1 ,powers[:,1]==0]), axis=0)\n",
    "        idx_x1 = list(np.all(np.array([ powers[:,0]==1 ,powers[:,1]==0]), axis=0)).index(True)\n",
    "        idx_x2 = list(np.all(np.array([ powers[:,1]==1 ,powers[:,0]==0]), axis=0)).index(True)\n",
    "    else:\n",
    "        idx_x1 = 0\n",
    "        idx_x2 = 1\n",
    "\n",
    "    print(idx_x1)\n",
    "    print(idx_x2)\n",
    "    w = np.squeeze(clf.coef_)\n",
    "    print(w)\n",
    "    a = -w[idx_x1] / w[idx_x2]\n",
    "    xx = np.linspace(min(X[:,idx_x1]),max(X[:,idx_x1]), 100)\n",
    "    yy = a * xx - (np.squeeze(clf.intercept_)) / w[idx_x2]\n",
    "\n",
    "    plt.plot(xx, yy, 'k-')"
   ]
  },
  {
   "cell_type": "code",
   "execution_count": null,
   "metadata": {},
   "outputs": [],
   "source": [
    "clf_lasso = Lasso(alpha=0.1)\n",
    "clf_lasso.fit(X_poly_train,y_train)\n",
    "plotLinearBoundary(X_poly_train, y_train, clf_lasso, powers=poly.powers_)"
   ]
  },
  {
   "cell_type": "markdown",
   "metadata": {},
   "source": [
    "**Red neuronal multicapa**"
   ]
  },
  {
   "cell_type": "code",
   "execution_count": null,
   "metadata": {},
   "outputs": [],
   "source": [
    "input_shape = 2\n",
    "hidden_units = 20 \n",
    "output_size = 1\n",
    "network = draw_nn.DrawNN( [input_shape, hidden_units, output_size] )\n",
    "network.draw()"
   ]
  },
  {
   "cell_type": "code",
   "execution_count": null,
   "metadata": {},
   "outputs": [],
   "source": [
    "from keras.models import Sequential\n",
    "from keras.layers import Dense\n",
    "def get_two_layer_model_compiled(input_shape, output_size, hidden_units, lr=2,decay=0.0):\n",
    "\n",
    "    model = Sequential()\n",
    "    sgd = optimizers.SGD(lr=lr, decay=decay)\n",
    "    model.add(Dense(hidden_units,input_dim=input_shape,  activation='sigmoid', ))\n",
    "    model.add(Dense(output_size, \n",
    "                    activation='sigmoid', \n",
    "                    kernel_initializer='zeros', \n",
    "                    name='Salida'\n",
    "                   ))\n",
    "    model.compile(loss = 'binary_crossentropy', optimizer=sgd, metrics=['accuracy'])\n",
    "    return model"
   ]
  },
  {
   "cell_type": "code",
   "execution_count": null,
   "metadata": {},
   "outputs": [],
   "source": [
    "from fnn_helper import PlotLosses\n",
    "from keras import optimizers\n",
    "\n",
    "lr=1\n",
    "decay=0\n",
    "\n",
    "plot_losses = PlotLosses(plot_interval=200, evaluate_interval=None, x_val=X_test, y_val_categorical=y_test)\n",
    "two_layer_model = get_two_layer_model_compiled(input_shape, \n",
    "                                                 output_size, \n",
    "                                                 hidden_units, lr, decay \n",
    "                                                )\n",
    "two_layer_model.summary()"
   ]
  },
  {
   "cell_type": "code",
   "execution_count": null,
   "metadata": {},
   "outputs": [],
   "source": [
    "\n",
    "epochs = 3000\n",
    "batch_size = 5\n",
    "\n",
    "hist = two_layer_model.fit(X_train, \n",
    "          y_train, batch_size = batch_size,\n",
    "          epochs=epochs, \n",
    "          verbose=0, \n",
    "          validation_data=(X_test, y_test), \n",
    "          callbacks=[plot_losses],\n",
    "         )\n",
    "\n",
    "print('Cantidad de parámetros',two_layer_model.count_params())\n",
    "print('Mejor acc en train', max(hist.history['acc']))\n",
    "print('Mejor acc en test', max(hist.history['val_acc']))"
   ]
  },
  {
   "cell_type": "code",
   "execution_count": null,
   "metadata": {},
   "outputs": [],
   "source": [
    "hidden_units = 2 \n",
    "two_layer_model = get_two_layer_model_compiled(input_shape, \n",
    "                                                 output_size, \n",
    "                                                 hidden_units=hidden_units, \n",
    "                                                 lr=lr, \n",
    "                                                 decay=decay,\n",
    "                                                )\n",
    "two_layer_model.summary()"
   ]
  },
  {
   "cell_type": "code",
   "execution_count": null,
   "metadata": {},
   "outputs": [],
   "source": [
    "hist = two_layer_model.fit(X_train, \n",
    "          y_train, batch_size = batch_size,\n",
    "          epochs=epochs, \n",
    "          verbose=0, \n",
    "          validation_data=(X_test, y_test), \n",
    "          callbacks=[plot_losses],\n",
    "         )\n",
    "print('Cantidad de parámetros',two_layer_model.count_params())\n",
    "print('Mejor acc en train', max(hist.history['acc']))\n",
    "print('Mejor acc en test', max(hist.history['val_acc']))"
   ]
  },
  {
   "cell_type": "code",
   "execution_count": null,
   "metadata": {},
   "outputs": [],
   "source": [
    "hidden_units = 200 \n",
    "two_layer_model = get_two_layer_model_compiled(input_shape, \n",
    "                                                 output_size, \n",
    "                                                 hidden_units=hidden_units, \n",
    "                                                 lr=lr, \n",
    "                                                 decay=decay,\n",
    "                                                )"
   ]
  },
  {
   "cell_type": "code",
   "execution_count": null,
   "metadata": {},
   "outputs": [],
   "source": [
    "hist = two_layer_model.fit(X_train, \n",
    "          y_train, batch_size = batch_size,\n",
    "          epochs=epochs, \n",
    "          verbose=0, \n",
    "          validation_data=(X_test, y_test), \n",
    "          callbacks=[plot_losses],\n",
    "         )\n",
    "print('Cantidad de parámetros',two_layer_model.count_params())\n",
    "print('Mejor acc en train', max(hist.history['acc']))\n",
    "print('Mejor acc en test', max(hist.history['val_acc']))"
   ]
  },
  {
   "cell_type": "markdown",
   "metadata": {},
   "source": [
    "## Tamaño del dataset"
   ]
  },
  {
   "cell_type": "markdown",
   "metadata": {},
   "source": [
    "**Cross-Validation**"
   ]
  },
  {
   "cell_type": "code",
   "execution_count": null,
   "metadata": {},
   "outputs": [],
   "source": [
    "from regularization_helper import plot_it\n",
    "dataset_200 = np.load('200_samples_OK.npy')\n",
    "X = dataset_200[:,:2]\n",
    "y = dataset_200[:, 2]\n",
    "plot_it(X,y)\n",
    "plt.show()"
   ]
  },
  {
   "cell_type": "code",
   "execution_count": null,
   "metadata": {},
   "outputs": [],
   "source": [
    "from sklearn.model_selection import StratifiedKFold\n",
    "\n",
    "skf = StratifiedKFold(10)\n",
    "splited_indexs = skf.split(X, y)\n",
    "print(type(splited_indexs))\n",
    "print(next(splited_indexs))\n"
   ]
  },
  {
   "cell_type": "code",
   "execution_count": null,
   "metadata": {},
   "outputs": [],
   "source": [
    "i=0\n",
    "training_sets = []\n",
    "for train_index, test_index in splited_indexs:\n",
    "    i=i+1\n",
    "    print(\"CV dataset:\", i)\n",
    "    print(train_index.shape, test_index.shape)\n",
    "    dictionary = {'X_train':X[train_index], 'y_train':y[train_index], 'X_test':X[test_index],'y_test':y[test_index]}\n",
    "    training_sets.append(dictionary)"
   ]
  },
  {
   "cell_type": "code",
   "execution_count": null,
   "metadata": {},
   "outputs": [],
   "source": [
    "idx = 3\n",
    "plot_it(training_sets[idx]['X_train'],training_sets[idx]['y_train'])\n",
    "plt.title('Train subset in fold ' + str(idx))\n",
    "plt.show()\n",
    "plt.title('Test subset in fold ' + str(idx))\n",
    "plot_it(training_sets[idx]['X_test'],training_sets[idx]['y_test'])\n",
    "plt.show()"
   ]
  },
  {
   "cell_type": "code",
   "execution_count": null,
   "metadata": {},
   "outputs": [],
   "source": [
    "from sklearn.model_selection import cross_val_score, train_test_split\n",
    "from keras.wrappers.scikit_learn import KerasClassifier\n",
    "model = get_two_layer_model_compiled(input_shape, \n",
    "                                      output_size, \n",
    "                                      hidden_units)\n",
    "classifier = KerasClassifier(model, batch_size=25,  \n",
    "                             epochs=10, verbose=0)\n",
    "cross_val_scores = cross_val_score(estimator=classifier, X=X, y=y, cv=skf, \n",
    "                                   scoring='accuracy')"
   ]
  },
  {
   "cell_type": "markdown",
   "metadata": {},
   "source": [
    "## Regularización en redes neuronales\n",
    "**Regularizers de Keras**\n",
    "\n",
    "En una red neuronal, la regularización se define en cada capa. Puedo definir los pesos de cuáles capas se sumarán en la función de costo. Usando Keras, puedo definir el 'regularizer' de cada capa. \n",
    "Puedo asignar un regularizer como 'kernel_regularizer', 'bias_regularizer', o 'activity_regularizer'. El que hemos explicado hasta ahora, es decir, penalizando los pesos altos, es el kernel_regularizer. El bias regularizer penaliza un alto bias, y el activity_regularizer penaliza un total alto de la ecuacion $wx+b$."
   ]
  },
  {
   "cell_type": "code",
   "execution_count": null,
   "metadata": {},
   "outputs": [],
   "source": [
    "from keras import regularizers\n",
    "#Los que ya están implementados en Keras son: \n",
    "\n",
    "regularizers.l1(0.)\n",
    "regularizers.l2(0.)\n",
    "regularizers.l1_l2(l1=0.01, l2=0.01)\n"
   ]
  },
  {
   "cell_type": "code",
   "execution_count": null,
   "metadata": {},
   "outputs": [],
   "source": [
    "model = Sequential()\n",
    "model.add(Dense(64, input_dim=64,\n",
    "                kernel_regularizer=regularizers.l2(0.01))"
   ]
  },
  {
   "cell_type": "markdown",
   "metadata": {},
   "source": [
    "**Dropout**\n",
    "\n",
    "La técnica de dropout consiste en ignorar ciertas unidades de la red durante el entrenamiento. Esto se consigue asignando un peso nulo a la conexión entre esta unidad y la siguiente capa (ignorarla en el *foward propagation*) y un peso nulo a su conexiones con las unidades de la capa anterior (ignorarla en el *backpropagation*). La decisión de si una unidad es ignorada o no en cada iteración del entrenamiento es aleatoria: se define como una probabilidad $p$. Este es el único hiperparámetro del dropout. Cada nodo individual tiene una probabilidad $p$ de ser conservado (es decir, $1-p$ de ser ignorado).\n",
    "\n",
    "Durante la etapa de testeo, se usan todos los nodos pero se reducen sus pesos en un factor $p$.\n",
    "\n",
    "El dropout en Keras se agrega como una capa de tipo Dropout, que se aplica a las conexiones entre la capa inmediatamente anterior e inmediatamente posterior. "
   ]
  },
  {
   "cell_type": "code",
   "execution_count": null,
   "metadata": {},
   "outputs": [],
   "source": []
  }
 ],
 "metadata": {
  "kernelspec": {
   "display_name": "Python 3",
   "language": "python",
   "name": "python3"
  },
  "language_info": {
   "codemirror_mode": {
    "name": "ipython",
    "version": 3
   },
   "file_extension": ".py",
   "mimetype": "text/x-python",
   "name": "python",
   "nbconvert_exporter": "python",
   "pygments_lexer": "ipython3",
   "version": "3.7.1"
  }
 },
 "nbformat": 4,
 "nbformat_minor": 2
}
