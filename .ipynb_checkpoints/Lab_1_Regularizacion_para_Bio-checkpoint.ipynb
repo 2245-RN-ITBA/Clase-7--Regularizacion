{
  "nbformat": 4,
  "nbformat_minor": 0,
  "metadata": {
    "colab": {
      "name": "Lab 1 - Regularizacion_para_Bio.ipynb",
      "version": "0.3.2",
      "provenance": [],
      "collapsed_sections": []
    },
    "language_info": {
      "codemirror_mode": {
        "name": "ipython",
        "version": 3
      },
      "file_extension": ".py",
      "mimetype": "text/x-python",
      "name": "python",
      "nbconvert_exporter": "python",
      "pygments_lexer": "ipython3",
      "version": "3.7.1"
    },
    "kernelspec": {
      "name": "python3",
      "display_name": "Python 3"
    },
    "accelerator": "GPU"
  },
  "cells": [
    {
      "cell_type": "markdown",
      "metadata": {
        "id": "hbtx9FOiatBQ",
        "colab_type": "text"
      },
      "source": [
        "## Wisconsin Dataset: cancer de mama"
      ]
    },
    {
      "cell_type": "markdown",
      "metadata": {
        "id": "BTQEIyZVmn61",
        "colab_type": "text"
      },
      "source": [
        "**TARGET DIAGNOSTICO:**\n",
        "\n",
        "Tumor beligno/ tumor maligno\n",
        "\n",
        "\n",
        "\n",
        "\n",
        "**VARIABLES A PARTIR DE HISTOLOGÍA DE LA BIOPSIA:**\n",
        "\n",
        "\n",
        "Ten real-valued features are computed for each cell nucleus:\n",
        "\n",
        "\n",
        "1.  radius (mean of distances from center to points on the perimeter)\n",
        "2.  texture (standard deviation of gray-scale values)\n",
        "3.  perimeter \n",
        "4. area \n",
        "5. smoothness (local variation in radius lengths) \n",
        "6. compactness (perimeter^2 / area - 1.0) \n",
        "7. concavity (severity of concave portions of the contour) \n",
        "8. concave points (number of concave portions of the contour)\n",
        "9.  symmetry \n",
        "10. fractal dimension (\"coastline approximation\" - 1)\n",
        "\n",
        "\n",
        "\n",
        "\n",
        "\n",
        "The mean, standard error and \"worst\" or largest (mean of the three largest values) of these features were computed for each image, resulting in 30 features. For instance, field 3 is Mean Radius, field 13 is Radius SE, field 23 is Worst Radius."
      ]
    },
    {
      "cell_type": "code",
      "metadata": {
        "id": "i5XnMs3uNYfO",
        "colab_type": "code",
        "colab": {}
      },
      "source": [
        "import math \n",
        "import matplotlib.pyplot as plt \n",
        "import pandas as pd\n",
        "import numpy as np\n",
        "# difference of lasso and ridge regression is that some of the coefficients can be zero i.e. some of the features are \n",
        "# completely neglected\n",
        "from sklearn.linear_model import Lasso, Ridge\n",
        "from sklearn.linear_model import LinearRegression, LogisticRegression\n",
        "from sklearn.datasets import load_breast_cancer\n",
        "from sklearn.model_selection import train_test_split\n",
        "cancer = load_breast_cancer()\n",
        "#print cancer.keys()\n",
        "cancer_df = pd.DataFrame(cancer.data, columns=cancer.feature_names)\n",
        "#print cancer_df.head(3)\n",
        "X = cancer.data\n",
        "Y = cancer.target\n",
        "X_train,X_test,y_train,y_test=train_test_split(X,Y, test_size=0.3, random_state=31)\n"
      ],
      "execution_count": 0,
      "outputs": []
    },
    {
      "cell_type": "code",
      "metadata": {
        "id": "rpGaQLnoZbfn",
        "colab_type": "code",
        "outputId": "fe53af58-07aa-4742-e47b-03a1be9415ea",
        "colab": {
          "base_uri": "https://localhost:8080/",
          "height": 51
        }
      },
      "source": [
        "print(X.shape)\n",
        "print(Y.shape)"
      ],
      "execution_count": 0,
      "outputs": [
        {
          "output_type": "stream",
          "text": [
            "(569, 30)\n",
            "(569,)\n"
          ],
          "name": "stdout"
        }
      ]
    },
    {
      "cell_type": "markdown",
      "metadata": {
        "id": "8zeEx-heLlgc",
        "colab_type": "text"
      },
      "source": [
        "**Lasso y Ridge**"
      ]
    },
    {
      "cell_type": "code",
      "metadata": {
        "id": "XICnXEuqNjuS",
        "colab_type": "code",
        "outputId": "5fb51bef-d619-4475-f0ff-776d07b5c44d",
        "colab": {
          "base_uri": "https://localhost:8080/",
          "height": 68
        }
      },
      "source": [
        "lasso = Lasso()\n",
        "lasso.fit(X_train,y_train)\n",
        "\n",
        "print(lasso.predict(X_test))"
      ],
      "execution_count": 0,
      "outputs": [
        {
          "output_type": "stream",
          "text": [
            "training score: 0.5600974529893081\n",
            "test score:  0.5832244618818156\n",
            "number of features used:  4\n"
          ],
          "name": "stdout"
        }
      ]
    },
    {
      "cell_type": "markdown",
      "metadata": {
        "id": "MZ5V03AEUka1",
        "colab_type": "text"
      },
      "source": [
        "¿Qué es el \"score\" al ser valores continuos? \n",
        "\n",
        "\n",
        "*Returns the coefficient of determination R^2 of the prediction.*\n",
        "\n",
        "The coefficient R^2 is defined as (1 - u/v), where u is the residual sum of squares ((y_true - y_pred) ^ 2).sum() and v is the total sum of squares ((y_true - y_true.mean()) ^2).sum(). The best possible score is 1.0 and it can be negative (because the model can be arbitrarily worse). A constant model that always predicts the expected value of y, disregarding the input features, would get a R^2 score of 0.0. "
      ]
    },
    {
      "cell_type": "code",
      "metadata": {
        "id": "cZ8IWRNNUkId",
        "colab_type": "code",
        "colab": {}
      },
      "source": [
        "train_score=lasso.score(X_train,y_train)\n",
        "test_score=lasso.score(X_test,y_test)\n",
        "coeff_used = np.sum(lasso.coef_!=0)\n",
        "print(\"training score:\", train_score) \n",
        "print(\"test score: \", test_score)\n",
        "print(\"number of features used: \", coeff_used)"
      ],
      "execution_count": 0,
      "outputs": []
    },
    {
      "cell_type": "code",
      "metadata": {
        "id": "_gS4oJqXdv37",
        "colab_type": "code",
        "outputId": "4f9abd84-512e-403a-d912-b82906959a5a",
        "colab": {
          "base_uri": "https://localhost:8080/",
          "height": 170
        }
      },
      "source": [
        "thetaLasso=lasso.coef_\n",
        "print(\"Pesos del modelo usando regresión lasso:\")\n",
        "print(thetaLasso)"
      ],
      "execution_count": 0,
      "outputs": [
        {
          "output_type": "stream",
          "text": [
            "Pesos del modelo usando regresión lasso:\n",
            "[-0.00000000e+00 -0.00000000e+00 -0.00000000e+00 -9.10366021e-05\n",
            " -0.00000000e+00 -0.00000000e+00 -0.00000000e+00 -0.00000000e+00\n",
            " -0.00000000e+00 -0.00000000e+00 -0.00000000e+00 -0.00000000e+00\n",
            " -0.00000000e+00  2.28811188e-04 -0.00000000e+00 -0.00000000e+00\n",
            " -0.00000000e+00 -0.00000000e+00 -0.00000000e+00 -0.00000000e+00\n",
            " -0.00000000e+00 -0.00000000e+00 -3.29832072e-03 -3.76623718e-04\n",
            " -0.00000000e+00 -0.00000000e+00 -0.00000000e+00 -0.00000000e+00\n",
            " -0.00000000e+00 -0.00000000e+00]\n"
          ],
          "name": "stdout"
        }
      ]
    },
    {
      "cell_type": "code",
      "metadata": {
        "id": "7UszZeLgfS8I",
        "colab_type": "code",
        "outputId": "8686c09e-7e9c-497f-a994-66b1ee894dad",
        "colab": {
          "base_uri": "https://localhost:8080/",
          "height": 68
        }
      },
      "source": [
        "ridge = Ridge()\n",
        "ridge.fit(X_train,y_train)\n",
        "train_score=ridge.score(X_train,y_train)\n",
        "test_score=ridge.score(X_test,y_test)\n",
        "coeff_used = np.sum(ridge.coef_!=0)\n",
        "print(\"training score:\", train_score) \n",
        "print(\"test score: \", test_score)\n",
        "print(\"number of features used: \", coeff_used)"
      ],
      "execution_count": 0,
      "outputs": [
        {
          "output_type": "stream",
          "text": [
            "training score: 0.7545830297364222\n",
            "test score:  0.7044798422052361\n",
            "number of features used:  30\n"
          ],
          "name": "stdout"
        }
      ]
    },
    {
      "cell_type": "code",
      "metadata": {
        "id": "k9hyA5eDfcgZ",
        "colab_type": "code",
        "outputId": "bf84ae8e-4fa2-49c9-f56a-53905689068a",
        "colab": {
          "base_uri": "https://localhost:8080/",
          "height": 119
        }
      },
      "source": [
        "thetaRidge=ridge.coef_\n",
        "print(\"Pesos del modelo usando regresión ridge:\")\n",
        "print(thetaRidge)"
      ],
      "execution_count": 0,
      "outputs": [
        {
          "output_type": "stream",
          "text": [
            "Pesos del modelo usando regresión ridge:\n",
            "[ 0.17432459  0.00351833 -0.00571328 -0.00111039 -0.08304038  0.04932729\n",
            " -0.20081602 -0.21259253 -0.12290039 -0.00242407 -0.28467871 -0.02368756\n",
            " -0.01569183  0.00178642 -0.02980735  0.06612603  0.15613047 -0.02118249\n",
            " -0.01838081  0.00448892 -0.27303792 -0.01384861  0.00967529  0.0011767\n",
            " -0.25587917 -0.12413813 -0.29795182 -0.31694803 -0.2861524  -0.07563007]\n"
          ],
          "name": "stdout"
        }
      ]
    },
    {
      "cell_type": "code",
      "metadata": {
        "id": "iv3y84iRNgLc",
        "colab_type": "code",
        "outputId": "844c527d-6476-400a-b7a4-48cf409242bd",
        "colab": {
          "base_uri": "https://localhost:8080/",
          "height": 153
        }
      },
      "source": [
        "lasso001 = Lasso(alpha=0.01, max_iter=10e5)\n",
        "lasso001.fit(X_train,y_train)\n",
        "train_score001=lasso001.score(X_train,y_train)\n",
        "test_score001=lasso001.score(X_test,y_test)\n",
        "coeff_used001 = np.sum(lasso001.coef_!=0)\n",
        "\n",
        "\n",
        "\n",
        "lasso00001 = Lasso(alpha=0.0001, max_iter=10e5)\n",
        "lasso00001.fit(X_train,y_train)\n",
        "train_score00001=lasso00001.score(X_train,y_train)\n",
        "test_score00001=lasso00001.score(X_test,y_test)\n",
        "coeff_used00001 = np.sum(lasso00001.coef_!=0)\n",
        "\n"
      ],
      "execution_count": 0,
      "outputs": [
        {
          "output_type": "stream",
          "text": [
            "training score for alpha=0.01: 0.7037865778498829\n",
            "test score for alpha =0.01:  0.664183157772623\n",
            "number of features used: for alpha =0.01: 10\n",
            "training score for alpha=0.0001: 0.7754092006936697\n",
            "test score for alpha =0.0001:  0.7318608210757904\n",
            "number of features used: for alpha =0.0001: 22\n",
            "LR training score: 0.7842206194055068\n",
            "LR test score:  0.7329325010888672\n"
          ],
          "name": "stdout"
        }
      ]
    },
    {
      "cell_type": "code",
      "metadata": {
        "id": "WH5ZITaGgev9",
        "colab_type": "code",
        "outputId": "0b9bac09-b288-43fd-df94-827a916a7cb7",
        "colab": {
          "base_uri": "https://localhost:8080/",
          "height": 153
        }
      },
      "source": [
        "print(\"LASSO alpha=0.01\")\n",
        "print(\"training:\", train_score001)\n",
        "print(\"test: \", test_score001)\n",
        "print(\"number of features used: \", coeff_used001)\n",
        "\n",
        "print(\"LASSO alpha=0.0001\")\n",
        "print(\"training:\", train_score00001) \n",
        "print(\"test: \", test_score00001)\n",
        "print(\"number of features used: \", coeff_used00001)\n"
      ],
      "execution_count": 0,
      "outputs": [
        {
          "output_type": "stream",
          "text": [
            "LASSO alpha=0.01\n",
            "training: 0.7037865778498829\n",
            "test:  0.664183157772623\n",
            "number of features used:  10\n",
            "LASSO alpha=0.0001\n",
            "training: 0.7754092006936697\n",
            "test:  0.7318608210757904\n",
            "number of features used:  22\n"
          ],
          "name": "stdout"
        }
      ]
    },
    {
      "cell_type": "code",
      "metadata": {
        "id": "Xzn3Qg2ghLPM",
        "colab_type": "code",
        "outputId": "32153aee-910f-424c-aab0-e7b7b94bf281",
        "colab": {
          "base_uri": "https://localhost:8080/",
          "height": 68
        }
      },
      "source": [
        "\n",
        "lr = LinearRegression()\n",
        "lr.fit(X_train,y_train)\n",
        "lr_train_score=lr.score(X_train,y_train)\n",
        "lr_test_score=lr.score(X_test,y_test)\n",
        "\n",
        "print(\"REGRESION LINEAL con L1\")\n",
        "print(\"training:\", lr_train_score)\n",
        "print(\"test: \", lr_test_score)"
      ],
      "execution_count": 0,
      "outputs": [
        {
          "output_type": "stream",
          "text": [
            "REGRESION LINEAL con L1\n",
            "training: 0.7842206194055068\n",
            "test:  0.7329325010888672\n"
          ],
          "name": "stdout"
        }
      ]
    },
    {
      "cell_type": "code",
      "metadata": {
        "id": "2Av1ekZ6hUlm",
        "colab_type": "code",
        "outputId": "307838f7-9373-479b-ea4e-bf64bcbc6f49",
        "colab": {
          "base_uri": "https://localhost:8080/",
          "height": 102
        }
      },
      "source": [
        "lr = LogisticRegression()\n",
        "lr.fit(X_train,y_train)\n",
        "lr_train_score=lr.score(X_train,y_train)\n",
        "lr_test_score=lr.score(X_test,y_test)\n",
        "\n",
        "print(\"REGRESION LINEAL con L1\")\n",
        "print(\"training:\", lr_train_score)\n",
        "print(\"test: \", lr_test_score)"
      ],
      "execution_count": 0,
      "outputs": [
        {
          "output_type": "stream",
          "text": [
            "REGRESION LINEAL con L1\n",
            "training: 0.9597989949748744\n",
            "test:  0.935672514619883\n"
          ],
          "name": "stdout"
        },
        {
          "output_type": "stream",
          "text": [
            "/usr/local/lib/python3.6/dist-packages/sklearn/linear_model/logistic.py:433: FutureWarning: Default solver will be changed to 'lbfgs' in 0.22. Specify a solver to silence this warning.\n",
            "  FutureWarning)\n"
          ],
          "name": "stderr"
        }
      ]
    },
    {
      "cell_type": "code",
      "metadata": {
        "id": "uS-aqfH0OIYo",
        "colab_type": "code",
        "outputId": "f69db9e9-f766-470f-f639-10cfe5e8df55",
        "colab": {
          "base_uri": "https://localhost:8080/",
          "height": 729
        }
      },
      "source": [
        "f = plt.figure(figsize=(15,10))\n",
        "plt.subplot(1,2,1)\n",
        "plt.plot(lasso.coef_,alpha=0.7,linestyle='none',marker='*',markersize=5,color='red',label=r'Lasso; $\\alpha = 1$',zorder=7) # alpha here is for transparency\n",
        "plt.plot(lasso001.coef_,alpha=0.5,linestyle='none',marker='d',markersize=6,color='blue',label=r'Lasso; $\\alpha = 0.01$') # alpha here is for transparency\n",
        "\n",
        "plt.xlabel('Coefficient Index',fontsize=16)\n",
        "plt.ylabel('Coefficient Magnitude',fontsize=16)\n",
        "plt.legend(fontsize=13,loc=4)\n",
        "plt.subplot(1,2,2)\n",
        "plt.plot(lasso.coef_,alpha=0.7,linestyle='none',marker='*',markersize=5,color='red',label=r'Lasso; $\\alpha = 1$',zorder=7) # alpha here is for transparency\n",
        "plt.plot(lasso001.coef_,alpha=0.5,linestyle='none',marker='d',markersize=6,color='blue',label=r'Lasso; $\\alpha = 0.01$') # alpha here is for transparency\n",
        "plt.plot(lasso00001.coef_,alpha=0.8,linestyle='none',marker='v',markersize=6,color='black',label=r'Lasso; $\\alpha = 0.00001$') # alpha here is for transparency\n",
        "plt.plot(lr.coef_,alpha=0.7,linestyle='none',marker='o',markersize=5,color='green',label='Linear Regression',zorder=2)\n",
        "plt.xlabel('Coefficient Index',fontsize=16)\n",
        "plt.ylabel('Coefficient Magnitude',fontsize=16)\n",
        "plt.legend(fontsize=13,loc=4)\n",
        "plt.tight_layout()\n",
        "plt.show()"
      ],
      "execution_count": 0,
      "outputs": [
        {
          "output_type": "display_data",
          "data": {
            "image/png": "[encoded data removed]",
            "text/plain": [
              "<Figure size 1080x720 with 2 Axes>"
            ]
          },
          "metadata": {
            "tags": []
          }
        }
      ]
    },
    {
      "cell_type": "markdown",
      "metadata": {
        "id": "y1L3gyaHNuFK",
        "colab_type": "text"
      },
      "source": [
        "**Cross-validation**"
      ]
    },
    {
      "cell_type": "markdown",
      "metadata": {
        "colab_type": "text",
        "id": "ZYI2CAIUBZiT"
      },
      "source": [
        "Si que tenemos pocas observaciones para la cantidad de variables, podemos aplicar cross validation para hacer el 'tuning' de hiperparámetros al entrenar. La metodología es la siguiente: por cada opción de modelo que deseamos evaluar, hacemos un 'fit' para todos los 'folds' menos uno (folds de entrenamiento), y un 'predict' para el fold restante (fold de validación). Repetimos esto para todas las combinaciones de folds disponibles. Finalmente, consideramos el desempeño de validación de ese modelo como el promedio de los scores obtenidos en todas nuestras corridas de fit-predict. \n",
        "\n",
        "Por ejemplo: queremos comparar un ModeloA (con una cierta combinación de hiperparámetros), con el ModeloB (otra combinación diferente), y haciendo un cross-validation de 3 folds, es decir, dividiendo nuestro dataset en tres: fold1, fold2, fold3.\n",
        "\n",
        "1) Nuevo ModeloA. Fit de ModeloA con fold1+fold2\n",
        "\n",
        "2) Predict de ModeloA ajustado en (1) sobre fold3 --> \"score1\"\n",
        "\n",
        "3) Nuevo ModeloA. Fit de ModeloA con fold1+fold3\n",
        "\n",
        "4) Predict de ModeloA ajustado en (3) sobre fold2 --> \"score2\"\n",
        "\n",
        "5) Nuevo ModeloA. Fit de ModeloA con fold2+fold3\n",
        "\n",
        "6) Predict de ModeloA ajustado en (5) sobre fold1 --> \"score3\"\n",
        "\n",
        "7) ScoreA será el promedio de score1, score2 y score3.\n",
        "\n",
        "Repetimos los pasos para ModeloB, y obtenemos el ScoreB. La comparación entre ScoreA y ScoreB nos definirá qué combinación de hiperparámetros es mejor."
      ]
    },
    {
      "cell_type": "code",
      "metadata": {
        "id": "obdjSfPMdj8a",
        "colab_type": "code",
        "outputId": "70f45088-2d24-4805-c683-fc522166755e",
        "colab": {
          "base_uri": "https://localhost:8080/",
          "height": 68
        }
      },
      "source": [
        "from sklearn.model_selection import cross_val_score\n",
        "\n",
        "lasso = Lasso(alpha=10).fit(X_train,y_train)\n",
        "scores = cross_val_score(lasso,X_train,y_train,scoring='neg_mean_squared_error',cv=5)\n",
        "rmse_scores = np.sqrt(-scores)\n",
        "\n",
        "def display_scores(scores):\n",
        "    print(\"Scores:\", scores)\n",
        "    print(\"Mean:{:.5f}\".format(scores.mean()))\n",
        "    print(\"Standard deviation:\", scores.std())\n",
        "    \n",
        "display_scores(rmse_scores)"
      ],
      "execution_count": 0,
      "outputs": [
        {
          "output_type": "stream",
          "text": [
            "Scores: [0.33880569 0.35017105 0.32999407 0.34853122 0.3066145 ]\n",
            "Mean:0.33482\n",
            "Standard deviation: 0.015864284511784718\n"
          ],
          "name": "stdout"
        }
      ]
    },
    {
      "cell_type": "code",
      "metadata": {
        "id": "5UH-stDPjE_4",
        "colab_type": "code",
        "outputId": "62d34cf0-b7b0-46df-c822-91e4a4332ae8",
        "colab": {
          "base_uri": "https://localhost:8080/",
          "height": 68
        }
      },
      "source": [
        "from sklearn.model_selection import cross_val_score\n",
        "\n",
        "lasso = Lasso(alpha=1).fit(X_train,y_train)\n",
        "scores = cross_val_score(lasso,X_train,y_train,scoring='neg_mean_squared_error',cv=5)\n",
        "rmse_scores = np.sqrt(-scores)\n",
        "\n",
        "def display_scores(scores):\n",
        "    print(\"Scores:\", scores)\n",
        "    print(\"Mean:{:.5f}\".format(scores.mean()))\n",
        "    print(\"Standard deviation:\", scores.std())\n",
        "    \n",
        "display_scores(rmse_scores)"
      ],
      "execution_count": 0,
      "outputs": [
        {
          "output_type": "stream",
          "text": [
            "Scores: [0.32834753 0.33815866 0.31826867 0.34498993 0.29861421]\n",
            "Mean:0.32568\n",
            "Standard deviation: 0.016267703317637872\n"
          ],
          "name": "stdout"
        }
      ]
    },
    {
      "cell_type": "markdown",
      "metadata": {
        "id": "3s8TRYDdjJD-",
        "colab_type": "text"
      },
      "source": [
        "Recorda que el score acá es el error cuadratico medio! Por lo tanto, cuanto menor es, mejor."
      ]
    },
    {
      "cell_type": "markdown",
      "metadata": {
        "id": "TAVUXgp8JIw_",
        "colab_type": "text"
      },
      "source": [
        "## Radiomics\n",
        "\n",
        "La radiómica es un campo de estudio médico que busca extraer características cuantitativas de imágenes médicas, convirtiendo las imágenes en datos minables y aplicando el análisis de estos datos para brindar soporte a la decisión clínica. De la misma forma que la genómica o la proteómica, este campo de la medicina de precisión busca encontrar patrones explicativos en sets de gran cantidad de datos. Se contrapone a la práctica tradicional de tratar las imágenes médicas como meras imágenes demostrativas destinadas únicamente a interpretación visual. La radiómica contiene estadística de primer, segundo y alto orden, que combinados con datos clínicos del paciente pueden generar modelos que potencialmente podrían mejorar la precisión diagnóstica, prognóstico y predictiva. \n",
        "\n",
        "La radiómica ha demostrado un buen desempeño en otros tipos de cáncer, especialmente de cerebro y de próstata, ya que son patologías de alta prevalencia y para las que se cuenta con sets de imágenes de gran tamaño. El pipeline de radiomics consiste en la adquisición de imagen, la segmentación de la región de interés, un posible preprocesamiento de la imagen (filtrado, resampleo, padding, cropping, entr otros) y finalmente la extracción de los \"radiomic features\". Para Python existe el paquete [pyradiomics](https://pyradiomics.readthedocs.io/en/latest/customization.html) que explica cómo configurar este proceso en su documentación.\n",
        " \n",
        "<img src=\"https://github.com/rn-2019-itba/Clase-7--Regularizacion/blob/master/radiomics.jpg?raw=1\" alt=\"Drawing\" style=\"width:40%;\"/>\n",
        "\n",
        "\n",
        "## Dataset de Gliomas \n",
        "\n",
        "El dataset [TCGA-LGG](https://wiki.cancerimagingarchive.net/display/Public/TCGA-LGG#49dd0de7af2043e680c4ecb36fe605a3) es un dataset público que combina información genética del Cancer Genome Archive (TCGA) con imágenes de resonancia magnética de cerebro del Cancer Imaging Archive (TCIA) , pertenecientes a pacientes diagnosticados con glioma de bajo grado (Low Grade Glioma). Este tipo de tumor puede estar asociado a una mutación genética, en cuyo caso el tratamiento será diferente. Es de interés poder predecir esta mutación ya que el análisis genómico es muy costoso."
      ]
    },
    {
      "cell_type": "code",
      "metadata": {
        "id": "SyXEdfpdJIxE",
        "colab_type": "code",
        "colab": {}
      },
      "source": [
        "import pandas as pd\n",
        "data = pd.read_csv('https://raw.githubusercontent.com/rn-2019-itba/Clase-7--Regularizacion/master/radiomics_gliomas.csv')"
      ],
      "execution_count": 0,
      "outputs": []
    },
    {
      "cell_type": "code",
      "metadata": {
        "id": "89iq_BOWJIxF",
        "colab_type": "code",
        "outputId": "0e8be766-ea11-4097-bb82-b610eeb89511",
        "colab": {
          "base_uri": "https://localhost:8080/",
          "height": 270
        }
      },
      "source": [
        "data.head()"
      ],
      "execution_count": 0,
      "outputs": [
        {
          "output_type": "execute_result",
          "data": {
            "text/html": [
              "<div>\n",
              "<style scoped>\n",
              "    .dataframe tbody tr th:only-of-type {\n",
              "        vertical-align: middle;\n",
              "    }\n",
              "\n",
              "    .dataframe tbody tr th {\n",
              "        vertical-align: top;\n",
              "    }\n",
              "\n",
              "    .dataframe thead th {\n",
              "        text-align: right;\n",
              "    }\n",
              "</style>\n",
              "<table border=\"1\" class=\"dataframe\">\n",
              "  <thead>\n",
              "    <tr style=\"text-align: right;\">\n",
              "      <th></th>\n",
              "      <th>original_firstorder_10Percentile</th>\n",
              "      <th>original_firstorder_90Percentile</th>\n",
              "      <th>original_firstorder_Energy</th>\n",
              "      <th>original_firstorder_Entropy</th>\n",
              "      <th>original_firstorder_InterquartileRange</th>\n",
              "      <th>original_firstorder_Kurtosis</th>\n",
              "      <th>original_firstorder_Maximum</th>\n",
              "      <th>original_firstorder_Mean</th>\n",
              "      <th>original_firstorder_MeanAbsoluteDeviation</th>\n",
              "      <th>original_firstorder_Median</th>\n",
              "      <th>...</th>\n",
              "      <th>wavelet-LLH_firstorder_Uniformity</th>\n",
              "      <th>wavelet-LLH_firstorder_Variance</th>\n",
              "      <th>wavelet-LLH_glcm_Autocorrelation</th>\n",
              "      <th>wavelet-LLH_glcm_ClusterProminence</th>\n",
              "      <th>wavelet-LLH_glcm_ClusterShade</th>\n",
              "      <th>wavelet-LLH_glcm_ClusterTendency</th>\n",
              "      <th>wavelet-LLH_glcm_Contrast</th>\n",
              "      <th>wavelet-LLH_glcm_Correlation</th>\n",
              "      <th>wavelet-LLH_glcm_DifferenceAverage</th>\n",
              "      <th>Mutacion</th>\n",
              "    </tr>\n",
              "  </thead>\n",
              "  <tbody>\n",
              "    <tr>\n",
              "      <th>0</th>\n",
              "      <td>155.615205</td>\n",
              "      <td>353.184777</td>\n",
              "      <td>2.878215e+08</td>\n",
              "      <td>5.809761</td>\n",
              "      <td>97.306704</td>\n",
              "      <td>2.834441</td>\n",
              "      <td>434.351234</td>\n",
              "      <td>266.625929</td>\n",
              "      <td>60.124082</td>\n",
              "      <td>277.726650</td>\n",
              "      <td>...</td>\n",
              "      <td>0.041838</td>\n",
              "      <td>1257.667670</td>\n",
              "      <td>644.310749</td>\n",
              "      <td>58710.668931</td>\n",
              "      <td>-51.434398</td>\n",
              "      <td>128.596721</td>\n",
              "      <td>69.240755</td>\n",
              "      <td>0.301791</td>\n",
              "      <td>6.214115</td>\n",
              "      <td>1</td>\n",
              "    </tr>\n",
              "    <tr>\n",
              "      <th>1</th>\n",
              "      <td>191.101389</td>\n",
              "      <td>372.599007</td>\n",
              "      <td>2.066994e+09</td>\n",
              "      <td>5.637016</td>\n",
              "      <td>99.693104</td>\n",
              "      <td>2.549367</td>\n",
              "      <td>424.250372</td>\n",
              "      <td>293.920752</td>\n",
              "      <td>55.622405</td>\n",
              "      <td>306.916096</td>\n",
              "      <td>...</td>\n",
              "      <td>0.110662</td>\n",
              "      <td>212.043507</td>\n",
              "      <td>162.874178</td>\n",
              "      <td>3080.122135</td>\n",
              "      <td>-96.878003</td>\n",
              "      <td>27.905486</td>\n",
              "      <td>5.517043</td>\n",
              "      <td>0.668519</td>\n",
              "      <td>1.679473</td>\n",
              "      <td>1</td>\n",
              "    </tr>\n",
              "    <tr>\n",
              "      <th>2</th>\n",
              "      <td>162.543544</td>\n",
              "      <td>413.165807</td>\n",
              "      <td>1.496800e+08</td>\n",
              "      <td>5.860199</td>\n",
              "      <td>103.001719</td>\n",
              "      <td>2.833426</td>\n",
              "      <td>475.078627</td>\n",
              "      <td>261.387435</td>\n",
              "      <td>70.544241</td>\n",
              "      <td>246.738413</td>\n",
              "      <td>...</td>\n",
              "      <td>0.045860</td>\n",
              "      <td>1237.007712</td>\n",
              "      <td>492.419360</td>\n",
              "      <td>69561.725366</td>\n",
              "      <td>-959.722953</td>\n",
              "      <td>162.728062</td>\n",
              "      <td>60.573934</td>\n",
              "      <td>0.468938</td>\n",
              "      <td>5.976991</td>\n",
              "      <td>1</td>\n",
              "    </tr>\n",
              "    <tr>\n",
              "      <th>3</th>\n",
              "      <td>247.658193</td>\n",
              "      <td>420.426441</td>\n",
              "      <td>2.117501e+08</td>\n",
              "      <td>5.607336</td>\n",
              "      <td>113.453612</td>\n",
              "      <td>2.119373</td>\n",
              "      <td>474.868965</td>\n",
              "      <td>335.706343</td>\n",
              "      <td>58.695066</td>\n",
              "      <td>337.126368</td>\n",
              "      <td>...</td>\n",
              "      <td>0.072517</td>\n",
              "      <td>613.130293</td>\n",
              "      <td>696.942500</td>\n",
              "      <td>15338.156162</td>\n",
              "      <td>-432.844674</td>\n",
              "      <td>52.406665</td>\n",
              "      <td>21.422252</td>\n",
              "      <td>0.386653</td>\n",
              "      <td>3.373647</td>\n",
              "      <td>1</td>\n",
              "    </tr>\n",
              "    <tr>\n",
              "      <th>4</th>\n",
              "      <td>191.321605</td>\n",
              "      <td>404.324298</td>\n",
              "      <td>5.687897e+08</td>\n",
              "      <td>5.871768</td>\n",
              "      <td>96.504857</td>\n",
              "      <td>3.300441</td>\n",
              "      <td>476.342717</td>\n",
              "      <td>314.116180</td>\n",
              "      <td>62.270515</td>\n",
              "      <td>328.312934</td>\n",
              "      <td>...</td>\n",
              "      <td>0.057828</td>\n",
              "      <td>724.368720</td>\n",
              "      <td>857.655164</td>\n",
              "      <td>24572.757630</td>\n",
              "      <td>-132.585964</td>\n",
              "      <td>73.449313</td>\n",
              "      <td>50.763610</td>\n",
              "      <td>0.190613</td>\n",
              "      <td>5.220063</td>\n",
              "      <td>0</td>\n",
              "    </tr>\n",
              "  </tbody>\n",
              "</table>\n",
              "<p>5 rows × 642 columns</p>\n",
              "</div>"
            ],
            "text/plain": [
              "   original_firstorder_10Percentile  original_firstorder_90Percentile  \\\n",
              "0                        155.615205                        353.184777   \n",
              "1                        191.101389                        372.599007   \n",
              "2                        162.543544                        413.165807   \n",
              "3                        247.658193                        420.426441   \n",
              "4                        191.321605                        404.324298   \n",
              "\n",
              "   original_firstorder_Energy  original_firstorder_Entropy  \\\n",
              "0                2.878215e+08                     5.809761   \n",
              "1                2.066994e+09                     5.637016   \n",
              "2                1.496800e+08                     5.860199   \n",
              "3                2.117501e+08                     5.607336   \n",
              "4                5.687897e+08                     5.871768   \n",
              "\n",
              "   original_firstorder_InterquartileRange  original_firstorder_Kurtosis  \\\n",
              "0                               97.306704                      2.834441   \n",
              "1                               99.693104                      2.549367   \n",
              "2                              103.001719                      2.833426   \n",
              "3                              113.453612                      2.119373   \n",
              "4                               96.504857                      3.300441   \n",
              "\n",
              "   original_firstorder_Maximum  original_firstorder_Mean  \\\n",
              "0                   434.351234                266.625929   \n",
              "1                   424.250372                293.920752   \n",
              "2                   475.078627                261.387435   \n",
              "3                   474.868965                335.706343   \n",
              "4                   476.342717                314.116180   \n",
              "\n",
              "   original_firstorder_MeanAbsoluteDeviation  original_firstorder_Median  ...  \\\n",
              "0                                  60.124082                  277.726650  ...   \n",
              "1                                  55.622405                  306.916096  ...   \n",
              "2                                  70.544241                  246.738413  ...   \n",
              "3                                  58.695066                  337.126368  ...   \n",
              "4                                  62.270515                  328.312934  ...   \n",
              "\n",
              "   wavelet-LLH_firstorder_Uniformity  wavelet-LLH_firstorder_Variance  \\\n",
              "0                           0.041838                      1257.667670   \n",
              "1                           0.110662                       212.043507   \n",
              "2                           0.045860                      1237.007712   \n",
              "3                           0.072517                       613.130293   \n",
              "4                           0.057828                       724.368720   \n",
              "\n",
              "   wavelet-LLH_glcm_Autocorrelation  wavelet-LLH_glcm_ClusterProminence  \\\n",
              "0                        644.310749                        58710.668931   \n",
              "1                        162.874178                         3080.122135   \n",
              "2                        492.419360                        69561.725366   \n",
              "3                        696.942500                        15338.156162   \n",
              "4                        857.655164                        24572.757630   \n",
              "\n",
              "   wavelet-LLH_glcm_ClusterShade  wavelet-LLH_glcm_ClusterTendency  \\\n",
              "0                     -51.434398                        128.596721   \n",
              "1                     -96.878003                         27.905486   \n",
              "2                    -959.722953                        162.728062   \n",
              "3                    -432.844674                         52.406665   \n",
              "4                    -132.585964                         73.449313   \n",
              "\n",
              "   wavelet-LLH_glcm_Contrast  wavelet-LLH_glcm_Correlation  \\\n",
              "0                  69.240755                      0.301791   \n",
              "1                   5.517043                      0.668519   \n",
              "2                  60.573934                      0.468938   \n",
              "3                  21.422252                      0.386653   \n",
              "4                  50.763610                      0.190613   \n",
              "\n",
              "   wavelet-LLH_glcm_DifferenceAverage  Mutacion  \n",
              "0                            6.214115         1  \n",
              "1                            1.679473         1  \n",
              "2                            5.976991         1  \n",
              "3                            3.373647         1  \n",
              "4                            5.220063         0  \n",
              "\n",
              "[5 rows x 642 columns]"
            ]
          },
          "metadata": {
            "tags": []
          },
          "execution_count": 50
        }
      ]
    },
    {
      "cell_type": "code",
      "metadata": {
        "id": "jfqo_U5M7jAl",
        "colab_type": "code",
        "outputId": "05c062a3-48ac-4169-d8be-9857994eab57",
        "colab": {
          "base_uri": "https://localhost:8080/",
          "height": 363
        }
      },
      "source": [
        "data.describe()"
      ],
      "execution_count": 0,
      "outputs": [
        {
          "output_type": "execute_result",
          "data": {
            "text/html": [
              "<div>\n",
              "<style scoped>\n",
              "    .dataframe tbody tr th:only-of-type {\n",
              "        vertical-align: middle;\n",
              "    }\n",
              "\n",
              "    .dataframe tbody tr th {\n",
              "        vertical-align: top;\n",
              "    }\n",
              "\n",
              "    .dataframe thead th {\n",
              "        text-align: right;\n",
              "    }\n",
              "</style>\n",
              "<table border=\"1\" class=\"dataframe\">\n",
              "  <thead>\n",
              "    <tr style=\"text-align: right;\">\n",
              "      <th></th>\n",
              "      <th>original_firstorder_10Percentile</th>\n",
              "      <th>original_firstorder_90Percentile</th>\n",
              "      <th>original_firstorder_Energy</th>\n",
              "      <th>original_firstorder_Entropy</th>\n",
              "      <th>original_firstorder_InterquartileRange</th>\n",
              "      <th>original_firstorder_Kurtosis</th>\n",
              "      <th>original_firstorder_Maximum</th>\n",
              "      <th>original_firstorder_Mean</th>\n",
              "      <th>original_firstorder_MeanAbsoluteDeviation</th>\n",
              "      <th>original_firstorder_Median</th>\n",
              "      <th>...</th>\n",
              "      <th>wavelet-LLH_firstorder_Uniformity</th>\n",
              "      <th>wavelet-LLH_firstorder_Variance</th>\n",
              "      <th>wavelet-LLH_glcm_Autocorrelation</th>\n",
              "      <th>wavelet-LLH_glcm_ClusterProminence</th>\n",
              "      <th>wavelet-LLH_glcm_ClusterShade</th>\n",
              "      <th>wavelet-LLH_glcm_ClusterTendency</th>\n",
              "      <th>wavelet-LLH_glcm_Contrast</th>\n",
              "      <th>wavelet-LLH_glcm_Correlation</th>\n",
              "      <th>wavelet-LLH_glcm_DifferenceAverage</th>\n",
              "      <th>Mutacion</th>\n",
              "    </tr>\n",
              "  </thead>\n",
              "  <tbody>\n",
              "    <tr>\n",
              "      <th>count</th>\n",
              "      <td>150.000000</td>\n",
              "      <td>150.000000</td>\n",
              "      <td>1.500000e+02</td>\n",
              "      <td>150.000000</td>\n",
              "      <td>150.000000</td>\n",
              "      <td>150.000000</td>\n",
              "      <td>150.000000</td>\n",
              "      <td>150.000000</td>\n",
              "      <td>150.000000</td>\n",
              "      <td>150.000000</td>\n",
              "      <td>...</td>\n",
              "      <td>150.000000</td>\n",
              "      <td>150.000000</td>\n",
              "      <td>150.000000</td>\n",
              "      <td>1.500000e+02</td>\n",
              "      <td>150.000000</td>\n",
              "      <td>150.000000</td>\n",
              "      <td>150.000000</td>\n",
              "      <td>150.000000</td>\n",
              "      <td>150.000000</td>\n",
              "      <td>150.000000</td>\n",
              "    </tr>\n",
              "    <tr>\n",
              "      <th>mean</th>\n",
              "      <td>196.254289</td>\n",
              "      <td>375.249573</td>\n",
              "      <td>6.751148e+08</td>\n",
              "      <td>5.570176</td>\n",
              "      <td>94.984676</td>\n",
              "      <td>3.142393</td>\n",
              "      <td>467.149127</td>\n",
              "      <td>290.997833</td>\n",
              "      <td>55.848475</td>\n",
              "      <td>296.888554</td>\n",
              "      <td>...</td>\n",
              "      <td>0.068437</td>\n",
              "      <td>970.910192</td>\n",
              "      <td>928.059783</td>\n",
              "      <td>8.061266e+04</td>\n",
              "      <td>-493.515488</td>\n",
              "      <td>97.621314</td>\n",
              "      <td>49.999896</td>\n",
              "      <td>0.347891</td>\n",
              "      <td>4.625908</td>\n",
              "      <td>0.640000</td>\n",
              "    </tr>\n",
              "    <tr>\n",
              "      <th>std</th>\n",
              "      <td>49.783773</td>\n",
              "      <td>82.722194</td>\n",
              "      <td>6.313938e+08</td>\n",
              "      <td>0.389110</td>\n",
              "      <td>34.393355</td>\n",
              "      <td>1.179510</td>\n",
              "      <td>98.071870</td>\n",
              "      <td>66.972326</td>\n",
              "      <td>16.567217</td>\n",
              "      <td>73.001095</td>\n",
              "      <td>...</td>\n",
              "      <td>0.033065</td>\n",
              "      <td>714.119777</td>\n",
              "      <td>796.092963</td>\n",
              "      <td>1.851093e+05</td>\n",
              "      <td>1901.921705</td>\n",
              "      <td>70.161358</td>\n",
              "      <td>38.046156</td>\n",
              "      <td>0.111811</td>\n",
              "      <td>1.805976</td>\n",
              "      <td>0.481608</td>\n",
              "    </tr>\n",
              "    <tr>\n",
              "      <th>min</th>\n",
              "      <td>79.767080</td>\n",
              "      <td>180.278457</td>\n",
              "      <td>8.280899e+07</td>\n",
              "      <td>3.942049</td>\n",
              "      <td>21.186627</td>\n",
              "      <td>1.697886</td>\n",
              "      <td>201.686848</td>\n",
              "      <td>131.671673</td>\n",
              "      <td>16.654375</td>\n",
              "      <td>128.685252</td>\n",
              "      <td>...</td>\n",
              "      <td>0.028397</td>\n",
              "      <td>60.690466</td>\n",
              "      <td>45.473377</td>\n",
              "      <td>2.546045e+02</td>\n",
              "      <td>-20840.856771</td>\n",
              "      <td>7.771943</td>\n",
              "      <td>1.517555</td>\n",
              "      <td>0.062508</td>\n",
              "      <td>0.788915</td>\n",
              "      <td>0.000000</td>\n",
              "    </tr>\n",
              "    <tr>\n",
              "      <th>25%</th>\n",
              "      <td>165.716964</td>\n",
              "      <td>321.829570</td>\n",
              "      <td>2.880263e+08</td>\n",
              "      <td>5.327333</td>\n",
              "      <td>72.616707</td>\n",
              "      <td>2.434536</td>\n",
              "      <td>407.620441</td>\n",
              "      <td>250.672777</td>\n",
              "      <td>45.360588</td>\n",
              "      <td>253.804956</td>\n",
              "      <td>...</td>\n",
              "      <td>0.049542</td>\n",
              "      <td>514.436831</td>\n",
              "      <td>381.734722</td>\n",
              "      <td>1.259530e+04</td>\n",
              "      <td>-505.111125</td>\n",
              "      <td>52.593250</td>\n",
              "      <td>24.817821</td>\n",
              "      <td>0.276503</td>\n",
              "      <td>3.530733</td>\n",
              "      <td>0.000000</td>\n",
              "    </tr>\n",
              "    <tr>\n",
              "      <th>50%</th>\n",
              "      <td>186.729113</td>\n",
              "      <td>372.272754</td>\n",
              "      <td>4.960238e+08</td>\n",
              "      <td>5.566293</td>\n",
              "      <td>90.944508</td>\n",
              "      <td>2.767675</td>\n",
              "      <td>454.530933</td>\n",
              "      <td>283.652527</td>\n",
              "      <td>52.917436</td>\n",
              "      <td>289.350812</td>\n",
              "      <td>...</td>\n",
              "      <td>0.058526</td>\n",
              "      <td>789.140862</td>\n",
              "      <td>723.720981</td>\n",
              "      <td>3.010360e+04</td>\n",
              "      <td>-152.049041</td>\n",
              "      <td>83.139954</td>\n",
              "      <td>40.843747</td>\n",
              "      <td>0.337523</td>\n",
              "      <td>4.507356</td>\n",
              "      <td>1.000000</td>\n",
              "    </tr>\n",
              "    <tr>\n",
              "      <th>75%</th>\n",
              "      <td>219.112722</td>\n",
              "      <td>425.351486</td>\n",
              "      <td>8.103514e+08</td>\n",
              "      <td>5.852721</td>\n",
              "      <td>111.383087</td>\n",
              "      <td>3.484079</td>\n",
              "      <td>508.153073</td>\n",
              "      <td>328.507880</td>\n",
              "      <td>66.039786</td>\n",
              "      <td>336.653047</td>\n",
              "      <td>...</td>\n",
              "      <td>0.075785</td>\n",
              "      <td>1273.240677</td>\n",
              "      <td>1267.217340</td>\n",
              "      <td>8.245186e+04</td>\n",
              "      <td>-8.332600</td>\n",
              "      <td>132.290790</td>\n",
              "      <td>62.620589</td>\n",
              "      <td>0.386271</td>\n",
              "      <td>5.559194</td>\n",
              "      <td>1.000000</td>\n",
              "    </tr>\n",
              "    <tr>\n",
              "      <th>max</th>\n",
              "      <td>490.109807</td>\n",
              "      <td>760.086299</td>\n",
              "      <td>4.262897e+09</td>\n",
              "      <td>6.488539</td>\n",
              "      <td>255.706997</td>\n",
              "      <td>10.702088</td>\n",
              "      <td>862.885580</td>\n",
              "      <td>689.067723</td>\n",
              "      <td>119.254736</td>\n",
              "      <td>731.298204</td>\n",
              "      <td>...</td>\n",
              "      <td>0.227326</td>\n",
              "      <td>4459.204244</td>\n",
              "      <td>5580.704733</td>\n",
              "      <td>2.046161e+06</td>\n",
              "      <td>4053.924411</td>\n",
              "      <td>463.006976</td>\n",
              "      <td>186.683764</td>\n",
              "      <td>0.677766</td>\n",
              "      <td>9.641945</td>\n",
              "      <td>1.000000</td>\n",
              "    </tr>\n",
              "  </tbody>\n",
              "</table>\n",
              "<p>8 rows × 642 columns</p>\n",
              "</div>"
            ],
            "text/plain": [
              "       original_firstorder_10Percentile  original_firstorder_90Percentile  \\\n",
              "count                        150.000000                        150.000000   \n",
              "mean                         196.254289                        375.249573   \n",
              "std                           49.783773                         82.722194   \n",
              "min                           79.767080                        180.278457   \n",
              "25%                          165.716964                        321.829570   \n",
              "50%                          186.729113                        372.272754   \n",
              "75%                          219.112722                        425.351486   \n",
              "max                          490.109807                        760.086299   \n",
              "\n",
              "       original_firstorder_Energy  original_firstorder_Entropy  \\\n",
              "count                1.500000e+02                   150.000000   \n",
              "mean                 6.751148e+08                     5.570176   \n",
              "std                  6.313938e+08                     0.389110   \n",
              "min                  8.280899e+07                     3.942049   \n",
              "25%                  2.880263e+08                     5.327333   \n",
              "50%                  4.960238e+08                     5.566293   \n",
              "75%                  8.103514e+08                     5.852721   \n",
              "max                  4.262897e+09                     6.488539   \n",
              "\n",
              "       original_firstorder_InterquartileRange  original_firstorder_Kurtosis  \\\n",
              "count                              150.000000                    150.000000   \n",
              "mean                                94.984676                      3.142393   \n",
              "std                                 34.393355                      1.179510   \n",
              "min                                 21.186627                      1.697886   \n",
              "25%                                 72.616707                      2.434536   \n",
              "50%                                 90.944508                      2.767675   \n",
              "75%                                111.383087                      3.484079   \n",
              "max                                255.706997                     10.702088   \n",
              "\n",
              "       original_firstorder_Maximum  original_firstorder_Mean  \\\n",
              "count                   150.000000                150.000000   \n",
              "mean                    467.149127                290.997833   \n",
              "std                      98.071870                 66.972326   \n",
              "min                     201.686848                131.671673   \n",
              "25%                     407.620441                250.672777   \n",
              "50%                     454.530933                283.652527   \n",
              "75%                     508.153073                328.507880   \n",
              "max                     862.885580                689.067723   \n",
              "\n",
              "       original_firstorder_MeanAbsoluteDeviation  original_firstorder_Median  \\\n",
              "count                                 150.000000                  150.000000   \n",
              "mean                                   55.848475                  296.888554   \n",
              "std                                    16.567217                   73.001095   \n",
              "min                                    16.654375                  128.685252   \n",
              "25%                                    45.360588                  253.804956   \n",
              "50%                                    52.917436                  289.350812   \n",
              "75%                                    66.039786                  336.653047   \n",
              "max                                   119.254736                  731.298204   \n",
              "\n",
              "       ...  wavelet-LLH_firstorder_Uniformity  \\\n",
              "count  ...                         150.000000   \n",
              "mean   ...                           0.068437   \n",
              "std    ...                           0.033065   \n",
              "min    ...                           0.028397   \n",
              "25%    ...                           0.049542   \n",
              "50%    ...                           0.058526   \n",
              "75%    ...                           0.075785   \n",
              "max    ...                           0.227326   \n",
              "\n",
              "       wavelet-LLH_firstorder_Variance  wavelet-LLH_glcm_Autocorrelation  \\\n",
              "count                       150.000000                        150.000000   \n",
              "mean                        970.910192                        928.059783   \n",
              "std                         714.119777                        796.092963   \n",
              "min                          60.690466                         45.473377   \n",
              "25%                         514.436831                        381.734722   \n",
              "50%                         789.140862                        723.720981   \n",
              "75%                        1273.240677                       1267.217340   \n",
              "max                        4459.204244                       5580.704733   \n",
              "\n",
              "       wavelet-LLH_glcm_ClusterProminence  wavelet-LLH_glcm_ClusterShade  \\\n",
              "count                        1.500000e+02                     150.000000   \n",
              "mean                         8.061266e+04                    -493.515488   \n",
              "std                          1.851093e+05                    1901.921705   \n",
              "min                          2.546045e+02                  -20840.856771   \n",
              "25%                          1.259530e+04                    -505.111125   \n",
              "50%                          3.010360e+04                    -152.049041   \n",
              "75%                          8.245186e+04                      -8.332600   \n",
              "max                          2.046161e+06                    4053.924411   \n",
              "\n",
              "       wavelet-LLH_glcm_ClusterTendency  wavelet-LLH_glcm_Contrast  \\\n",
              "count                        150.000000                 150.000000   \n",
              "mean                          97.621314                  49.999896   \n",
              "std                           70.161358                  38.046156   \n",
              "min                            7.771943                   1.517555   \n",
              "25%                           52.593250                  24.817821   \n",
              "50%                           83.139954                  40.843747   \n",
              "75%                          132.290790                  62.620589   \n",
              "max                          463.006976                 186.683764   \n",
              "\n",
              "       wavelet-LLH_glcm_Correlation  wavelet-LLH_glcm_DifferenceAverage  \\\n",
              "count                    150.000000                          150.000000   \n",
              "mean                       0.347891                            4.625908   \n",
              "std                        0.111811                            1.805976   \n",
              "min                        0.062508                            0.788915   \n",
              "25%                        0.276503                            3.530733   \n",
              "50%                        0.337523                            4.507356   \n",
              "75%                        0.386271                            5.559194   \n",
              "max                        0.677766                            9.641945   \n",
              "\n",
              "         Mutacion  \n",
              "count  150.000000  \n",
              "mean     0.640000  \n",
              "std      0.481608  \n",
              "min      0.000000  \n",
              "25%      0.000000  \n",
              "50%      1.000000  \n",
              "75%      1.000000  \n",
              "max      1.000000  \n",
              "\n",
              "[8 rows x 642 columns]"
            ]
          },
          "metadata": {
            "tags": []
          },
          "execution_count": 51
        }
      ]
    },
    {
      "cell_type": "code",
      "metadata": {
        "id": "_sUM0HB5JIxJ",
        "colab_type": "code",
        "outputId": "c602cd78-fa93-42d6-b794-e53b94c8251e",
        "colab": {
          "base_uri": "https://localhost:8080/",
          "height": 51
        }
      },
      "source": [
        "X = data[data.columns[:-2]].values\n",
        "print(X.shape)\n",
        "         \n",
        "Y = data['Mutacion'].values\n",
        "print(Y.shape)"
      ],
      "execution_count": 0,
      "outputs": [
        {
          "output_type": "stream",
          "text": [
            "(150, 640)\n",
            "(150,)\n"
          ],
          "name": "stdout"
        }
      ]
    },
    {
      "cell_type": "markdown",
      "metadata": {
        "id": "XklKBysjjiGn",
        "colab_type": "text"
      },
      "source": [
        "**Cross validation con GridSearch**"
      ]
    },
    {
      "cell_type": "code",
      "metadata": {
        "id": "Ap6dU3-u8do_",
        "colab_type": "code",
        "colab": {}
      },
      "source": [
        "from sklearn.model_selection import GridSearchCV\n",
        "#param_grid = {'alpha': [0.001, 0.005, 0.01, 0.5]}\n",
        "param_grid = {'alpha': [1.6, 3, 6]}\n"
      ],
      "execution_count": 0,
      "outputs": []
    },
    {
      "cell_type": "code",
      "metadata": {
        "id": "_MYacjPwUNHK",
        "colab_type": "code",
        "outputId": "e2ac4649-624f-4553-ff2c-70d8c7ee6e5d",
        "colab": {
          "base_uri": "https://localhost:8080/",
          "height": 377
        }
      },
      "source": [
        "# split \n",
        "X_train, X_test, y_train, y_test = train_test_split(\n",
        "    X, Y, test_size=0.1, random_state=42)\n",
        "\n",
        "\n",
        "clf = GridSearchCV(Lasso(max_iter=1e5), param_grid, cv=3)\n",
        "clf = clf.fit(X_train, y_train)\n"
      ],
      "execution_count": 0,
      "outputs": [
        {
          "output_type": "stream",
          "text": [
            "/usr/local/lib/python3.6/dist-packages/sklearn/linear_model/coordinate_descent.py:492: ConvergenceWarning: Objective did not converge. You might want to increase the number of iterations. Fitting data with very small alpha may cause precision problems.\n",
            "  ConvergenceWarning)\n",
            "/usr/local/lib/python3.6/dist-packages/sklearn/linear_model/coordinate_descent.py:492: ConvergenceWarning: Objective did not converge. You might want to increase the number of iterations. Fitting data with very small alpha may cause precision problems.\n",
            "  ConvergenceWarning)\n",
            "/usr/local/lib/python3.6/dist-packages/sklearn/linear_model/coordinate_descent.py:492: ConvergenceWarning: Objective did not converge. You might want to increase the number of iterations. Fitting data with very small alpha may cause precision problems.\n",
            "  ConvergenceWarning)\n",
            "/usr/local/lib/python3.6/dist-packages/sklearn/linear_model/coordinate_descent.py:492: ConvergenceWarning: Objective did not converge. You might want to increase the number of iterations. Fitting data with very small alpha may cause precision problems.\n",
            "  ConvergenceWarning)\n",
            "/usr/local/lib/python3.6/dist-packages/sklearn/linear_model/coordinate_descent.py:492: ConvergenceWarning: Objective did not converge. You might want to increase the number of iterations. Fitting data with very small alpha may cause precision problems.\n",
            "  ConvergenceWarning)\n",
            "/usr/local/lib/python3.6/dist-packages/sklearn/linear_model/coordinate_descent.py:492: ConvergenceWarning: Objective did not converge. You might want to increase the number of iterations. Fitting data with very small alpha may cause precision problems.\n",
            "  ConvergenceWarning)\n",
            "/usr/local/lib/python3.6/dist-packages/sklearn/linear_model/coordinate_descent.py:492: ConvergenceWarning: Objective did not converge. You might want to increase the number of iterations. Fitting data with very small alpha may cause precision problems.\n",
            "  ConvergenceWarning)\n",
            "/usr/local/lib/python3.6/dist-packages/sklearn/linear_model/coordinate_descent.py:492: ConvergenceWarning: Objective did not converge. You might want to increase the number of iterations. Fitting data with very small alpha may cause precision problems.\n",
            "  ConvergenceWarning)\n",
            "/usr/local/lib/python3.6/dist-packages/sklearn/linear_model/coordinate_descent.py:492: ConvergenceWarning: Objective did not converge. You might want to increase the number of iterations. Fitting data with very small alpha may cause precision problems.\n",
            "  ConvergenceWarning)\n",
            "/usr/local/lib/python3.6/dist-packages/sklearn/linear_model/coordinate_descent.py:492: ConvergenceWarning: Objective did not converge. You might want to increase the number of iterations. Fitting data with very small alpha may cause precision problems.\n",
            "  ConvergenceWarning)\n"
          ],
          "name": "stderr"
        }
      ]
    },
    {
      "cell_type": "code",
      "metadata": {
        "id": "FLGzk-jTM5-W",
        "colab_type": "code",
        "outputId": "8baf92bb-a312-436e-dc91-a87fd99db079",
        "colab": {
          "base_uri": "https://localhost:8080/",
          "height": 68
        }
      },
      "source": [
        "clf.best_estimator_"
      ],
      "execution_count": 0,
      "outputs": [
        {
          "output_type": "execute_result",
          "data": {
            "text/plain": [
              "Lasso(alpha=6, copy_X=True, fit_intercept=True, max_iter=100000.0,\n",
              "   normalize=False, positive=False, precompute=False, random_state=None,\n",
              "   selection='cyclic', tol=0.0001, warm_start=False)"
            ]
          },
          "metadata": {
            "tags": []
          },
          "execution_count": 56
        }
      ]
    },
    {
      "cell_type": "markdown",
      "metadata": {
        "id": "BN1vmMGKjx0s",
        "colab_type": "text"
      },
      "source": [
        "Hacemos fit del mejor a todo nuestro set de entrenamiento"
      ]
    },
    {
      "cell_type": "code",
      "metadata": {
        "id": "FOv7TIyrAC8J",
        "colab_type": "code",
        "outputId": "73fd171a-d945-4d92-ce93-cffe8313c537",
        "colab": {
          "base_uri": "https://localhost:8080/",
          "height": 122
        }
      },
      "source": [
        "import numpy as np\n",
        "clf_top = Lasso(alpha=6, copy_X=True, fit_intercept=True, max_iter=100000.0,\n",
        "   normalize=False, positive=False, precompute=False, random_state=None,\n",
        "   selection='cyclic', tol=0.0001, warm_start=False)\n",
        "clf_top.fit(X_train,y_train)\n",
        "\n"
      ],
      "execution_count": 0,
      "outputs": [
        {
          "output_type": "stream",
          "text": [
            "/usr/local/lib/python3.6/dist-packages/sklearn/linear_model/coordinate_descent.py:492: ConvergenceWarning: Objective did not converge. You might want to increase the number of iterations. Fitting data with very small alpha may cause precision problems.\n",
            "  ConvergenceWarning)\n"
          ],
          "name": "stderr"
        },
        {
          "output_type": "execute_result",
          "data": {
            "text/plain": [
              "Lasso(alpha=6, copy_X=True, fit_intercept=True, max_iter=100000.0,\n",
              "   normalize=False, positive=False, precompute=False, random_state=None,\n",
              "   selection='cyclic', tol=0.0001, warm_start=False)"
            ]
          },
          "metadata": {
            "tags": []
          },
          "execution_count": 57
        }
      ]
    },
    {
      "cell_type": "markdown",
      "metadata": {
        "id": "CBuZYIYUj1hu",
        "colab_type": "text"
      },
      "source": [
        "Testeo: predecimos para el set de test. Lasso es un método de regresión, así que devolverá valores continuos (no son probabilidades!!)"
      ]
    },
    {
      "cell_type": "code",
      "metadata": {
        "id": "HBfI9VUpA2Fn",
        "colab_type": "code",
        "outputId": "fb41e1e3-f907-479b-aa26-424677180d8c",
        "colab": {
          "base_uri": "https://localhost:8080/",
          "height": 85
        }
      },
      "source": [
        "y_pred = clf_top.predict(X_test)\n",
        "print(y_pred)"
      ],
      "execution_count": 0,
      "outputs": [
        {
          "output_type": "stream",
          "text": [
            "[ 6.35604231e-01  6.80684781e-01  1.01086804e+00  9.24411990e-01\n",
            "  7.45981671e-01  1.00044903e+00  8.65190951e-01  5.87707941e-01\n",
            "  8.12138252e-01  6.47189573e-01 -4.87763834e+01 -1.40757597e-02\n",
            "  4.79376254e-01  1.17829859e+00  1.97944987e-01]\n"
          ],
          "name": "stdout"
        }
      ]
    },
    {
      "cell_type": "code",
      "metadata": {
        "id": "qmv9KL1EbGAR",
        "colab_type": "code",
        "outputId": "302727ad-9e33-4ef3-ba9d-2f740ac5f0c7",
        "colab": {
          "base_uri": "https://localhost:8080/",
          "height": 51
        }
      },
      "source": [
        "from sklearn.metrics import roc_auc_score\n",
        "\n",
        "print(\"error: \", np.sqrt(-clf_top.score(X_test,y_test)))\n",
        "myauc = roc_auc_score(y_test,y_pred)\n",
        "print('AUC: ', auc)"
      ],
      "execution_count": 0,
      "outputs": [
        {
          "output_type": "stream",
          "text": [
            "error:  29.058790530014388\n",
            "AUC:  0.7727272727272727\n"
          ],
          "name": "stdout"
        }
      ]
    },
    {
      "cell_type": "code",
      "metadata": {
        "id": "MXHMBkmelJwU",
        "colab_type": "code",
        "outputId": "5bce8728-804b-4fe1-e1df-8a78d8ffb58f",
        "colab": {
          "base_uri": "https://localhost:8080/",
          "height": 295
        }
      },
      "source": [
        "from sklearn.metrics import roc_curve\n",
        "fpr, tpr, thresholds = roc_curve(y_test,y_pred)\n",
        "\n",
        "\n",
        "plt.figure()\n",
        "\n",
        "plt.plot(fpr, tpr, color='darkorange', label='ROC curve (area = %0.2f)' % myauc)\n",
        "\n",
        "plt.plot([0, 1], [0, 1], color='navy', linestyle='--')\n",
        "\n",
        "plt.xlim([0.0, 1.0])\n",
        "\n",
        "plt.ylim([0.0, 1.05])\n",
        "\n",
        "plt.xlabel('False Positive Rate')\n",
        "\n",
        "plt.ylabel('True Positive Rate')\n",
        "\n",
        "plt.title('Receiver operating characteristic')\n",
        "\n",
        "plt.legend(loc=\"lower right\")\n",
        "\n",
        "plt.show()"
      ],
      "execution_count": 0,
      "outputs": [
        {
          "output_type": "display_data",
          "data": {
            "image/png": "[encoded data removed]",
            "text/plain": [
              "<Figure size 432x288 with 1 Axes>"
            ]
          },
          "metadata": {
            "tags": []
          }
        }
      ]
    },
    {
      "cell_type": "markdown",
      "metadata": {
        "id": "IVcS6J_nkL8O",
        "colab_type": "text"
      },
      "source": [
        "¿Cómo interpretamos ese AUC? ¿Cómo podría definir el mejor valor umbral para las predicciones de Lasso?"
      ]
    },
    {
      "cell_type": "markdown",
      "metadata": {
        "id": "1972nH9rkFGN",
        "colab_type": "text"
      },
      "source": [
        "**Métodos no regresivos**"
      ]
    },
    {
      "cell_type": "markdown",
      "metadata": {
        "id": "OCy8Cmu3IZmq",
        "colab_type": "text"
      },
      "source": [
        "Usaremos como baseline un PCA + SVN:"
      ]
    },
    {
      "cell_type": "code",
      "metadata": {
        "id": "cnXsOiSi92yJ",
        "colab_type": "code",
        "outputId": "e051a40a-d9bb-4b86-bb79-ede6260476ba",
        "colab": {
          "base_uri": "https://localhost:8080/",
          "height": 102
        }
      },
      "source": [
        "from time import time\n",
        "import logging\n",
        "import matplotlib.pyplot as plt\n",
        "\n",
        "from sklearn.model_selection import train_test_split\n",
        "from sklearn.datasets import fetch_lfw_people\n",
        "from sklearn.metrics import classification_report\n",
        "from sklearn.metrics import confusion_matrix\n",
        "from sklearn.decomposition import PCA\n",
        "from sklearn.svm import SVC\n",
        "\n",
        "n_classes=2\n",
        "# #############################################################################\n",
        "# PCA: unsupervised feature extraction / dimensionality reduction\n",
        "n_components = 50\n",
        "\n",
        "print(\"Extraemos los %d eigen principales de %d muestras\"\n",
        "      % (n_components, X_train.shape[0]))\n",
        "t0 = time()\n",
        "pca = PCA(n_components=n_components, svd_solver='randomized',\n",
        "          whiten=True).fit(X_train)\n",
        "print(\"done in %0.3fs\" % (time() - t0))\n",
        "\n",
        "\n",
        "print(\"Proyectamos las muestras en la base ortonormal de valores eigen\")\n",
        "t0 = time()\n",
        "X_train_pca = pca.transform(X_train)\n",
        "X_test_pca = pca.transform(X_test)\n",
        "print(\"done in %0.3fs\" % (time() - t0))\n",
        "\n",
        "\n"
      ],
      "execution_count": 0,
      "outputs": [
        {
          "output_type": "stream",
          "text": [
            "Extraemos los 50 eigen principales de 112 muestras\n",
            "done in 0.063s\n",
            "Proyectamos las muestras en la base ortonormal de valores eigen\n",
            "done in 0.002s\n",
            "Nueva dimension (112, 50)\n"
          ],
          "name": "stdout"
        }
      ]
    },
    {
      "cell_type": "code",
      "metadata": {
        "colab_type": "code",
        "outputId": "19b3bb66-c250-459c-8906-51361e4b6cce",
        "id": "mLJBtmBKMysb",
        "colab": {
          "base_uri": "https://localhost:8080/",
          "height": 51
        }
      },
      "source": [
        "print('Dimension original',X_train.shape)\n",
        "\n",
        "print('Nueva dimension',X_train_pca.shape)"
      ],
      "execution_count": 0,
      "outputs": [
        {
          "output_type": "stream",
          "text": [
            "Dimension original (112, 640)\n",
            "Nueva dimension (112, 50)\n"
          ],
          "name": "stdout"
        }
      ]
    },
    {
      "cell_type": "code",
      "metadata": {
        "id": "f7fTn5pxKekP",
        "colab_type": "code",
        "outputId": "98c34b66-fb3e-456d-af43-563d63923639",
        "colab": {
          "base_uri": "https://localhost:8080/",
          "height": 190
        }
      },
      "source": [
        "# #############################################################################\n",
        "# SVM classification model\n",
        "\n",
        "print(\"Fiteamos el clasificador\")\n",
        "t0 = time()\n",
        "param_grid = {'C': [1e3, 5e3, 1e4, 5e4, 1e5],\n",
        "              'gamma': [0.0001, 0.0005, 0.001, 0.005, 0.01, 0.1], }\n",
        "clf = GridSearchCV(SVC(kernel='rbf', class_weight='balanced'),\n",
        "                   param_grid, cv=5)\n",
        "clf = clf.fit(X_train_pca, y_train)\n",
        "print(\"done in %0.3fs\" % (time() - t0))\n",
        "print(\"Mejor clasificador encontrado con grid search:\")\n",
        "print(clf.best_estimator_)\n"
      ],
      "execution_count": 0,
      "outputs": [
        {
          "output_type": "stream",
          "text": [
            "Fiteamos el clasificador\n",
            "done in 0.670s\n",
            "Mejor clasificador encontrado con grid search:\n",
            "SVC(C=1000.0, cache_size=200, class_weight='balanced', coef0=0.0,\n",
            "  decision_function_shape='ovr', degree=3, gamma=0.1, kernel='rbf',\n",
            "  max_iter=-1, probability=False, random_state=None, shrinking=True,\n",
            "  tol=0.001, verbose=False)\n"
          ],
          "name": "stdout"
        },
        {
          "output_type": "stream",
          "text": [
            "/usr/local/lib/python3.6/dist-packages/sklearn/model_selection/_search.py:841: DeprecationWarning: The default of the `iid` parameter will change from True to False in version 0.22 and will be removed in 0.24. This will change numeric results when test-set sizes are unequal.\n",
            "  DeprecationWarning)\n"
          ],
          "name": "stderr"
        }
      ]
    },
    {
      "cell_type": "code",
      "metadata": {
        "id": "7ZlE5-YGU2Qi",
        "colab_type": "code",
        "outputId": "c870846c-7e60-4f57-c763-ffdcf09aa937",
        "colab": {
          "base_uri": "https://localhost:8080/",
          "height": 238
        }
      },
      "source": [
        "# #############################################################################\n",
        "# Evaluamos la calidad del modelo en el test set\n",
        "t0 = time()\n",
        "\n",
        "clf_top = SVC(C=1000.0, cache_size=200, class_weight='balanced', coef0=0.0,\n",
        "  decision_function_shape='ovr', degree=3, gamma=0.1, kernel='rbf',\n",
        "  max_iter=-1, probability=False, random_state=None, shrinking=True,\n",
        "  tol=0.001, verbose=False)\n",
        "\n",
        "clf_top.fit(X_train_pca, y_train)\n",
        "y_pred = clf_top.predict(X_test_pca)\n",
        "print(\"done in %0.3fs\" % (time() - t0))\n",
        "print(y_pred)\n",
        "\n",
        "\n"
      ],
      "execution_count": 0,
      "outputs": [
        {
          "output_type": "stream",
          "text": [
            "Predicting people's names on the test set\n",
            "done in 0.002s\n",
            "              precision    recall  f1-score   support\n",
            "\n",
            "    Mutacion       1.00      0.08      0.15        12\n",
            " No mutacion       0.70      1.00      0.83        26\n",
            "\n",
            "   micro avg       0.71      0.71      0.71        38\n",
            "   macro avg       0.85      0.54      0.49        38\n",
            "weighted avg       0.80      0.71      0.61        38\n",
            "\n",
            "[[ 1 11]\n",
            " [ 0 26]]\n"
          ],
          "name": "stdout"
        }
      ]
    },
    {
      "cell_type": "code",
      "metadata": {
        "id": "v_QfiimFVsgN",
        "colab_type": "code",
        "colab": {}
      },
      "source": [
        "print(classification_report(y_test, y_pred, target_names=['Mutacion', 'No mutacion']))\n",
        "print(confusion_matrix(y_test, y_pred, labels=range(n_classes)))\n",
        "\n",
        "print('Proporcion correctas: ', np.sum(y_pred==y_test)/len(y_test))"
      ],
      "execution_count": 0,
      "outputs": []
    },
    {
      "cell_type": "markdown",
      "metadata": {
        "id": "MxpHg5NXJIxc",
        "colab_type": "text"
      },
      "source": [
        "\n",
        "**Red neuronal**\n",
        "\n",
        "Desarrollá una red neuronal para predecir si un glioma cerebral presenta o no mutación genética a partir de las características radiómicas de nuestro dataframe. Probá variar los distintos hiperparámetros propios de una red neuronal densa que pueden mejorar el overfitting: \n",
        "\n",
        "- Cantidad de capas ocultas y cantidad de unidades por capa\n",
        "\n",
        "- Capas con dropout y su dropout rate (p)\n",
        "\n",
        "- Capas con Kernel_normalizer con L1 o L2\n",
        "\n",
        "y aquellos generales del modelo:\n",
        "\n",
        "*   Optimizador\n",
        "*   Learning Rate\n",
        "*   Activacion"
      ]
    },
    {
      "cell_type": "code",
      "metadata": {
        "id": "QG9QjNukJIxc",
        "colab_type": "code",
        "colab": {}
      },
      "source": [
        "from keras.models import Sequential\n",
        "from keras.layers import Dense\n",
        "from keras.layers import Dropout\n",
        "from keras import optimizers\n",
        "lr=0.01\n",
        "input_shape = X_train_pca.shape[1]\n",
        "hidden_units=32\n",
        "output_size=1 #Binario\n",
        "\n",
        "\n",
        "model = Sequential()\n",
        "sgd = optimizers.Adam(lr=lr)\n",
        "model.add(Dense(hidden_units,input_dim=input_shape,  activation='relu'))\n",
        "model.add(Dropout(0.8))\n",
        "model.add(Dense(output_size, \n",
        "                activation='sigmoid' \n",
        "               ))\n",
        "model.compile(loss = 'binary_crossentropy', optimizer=sgd, metrics=['accuracy'])\n",
        "\n",
        "history = model.fit(X_train_pca, y_train, epochs=2000, validation_split=0.1, verbose=0)"
      ],
      "execution_count": 0,
      "outputs": []
    },
    {
      "cell_type": "code",
      "metadata": {
        "id": "0nUNMC6pTUu7",
        "colab_type": "code",
        "outputId": "1937f628-e26c-45aa-ac0b-63781affb7e0",
        "colab": {
          "base_uri": "https://localhost:8080/",
          "height": 573
        }
      },
      "source": [
        "# summarize history for accuracy\n",
        "plt.plot(history.history['acc'])\n",
        "plt.plot(history.history['val_acc'])\n",
        "plt.title('model accuracy')\n",
        "plt.ylabel('accuracy')\n",
        "plt.xlabel('epoch')\n",
        "plt.legend(['train', 'test'], loc='upper left')\n",
        "plt.show()\n",
        "# summarize history for loss\n",
        "plt.plot(history.history['loss'])\n",
        "plt.plot(history.history['val_loss'])\n",
        "plt.title('model loss')\n",
        "plt.ylabel('loss')\n",
        "plt.xlabel('epoch')\n",
        "plt.legend(['train', 'test'], loc='upper left')\n",
        "plt.show()"
      ],
      "execution_count": 0,
      "outputs": [
        {
          "output_type": "display_data",
          "data": {
            "image/png": "[encoded data removed]",
            "text/plain": [
              "<Figure size 432x288 with 1 Axes>"
            ]
          },
          "metadata": {
            "tags": []
          }
        },
        {
          "output_type": "display_data",
          "data": {
            "image/png": "[encoded data removed]",
            "text/plain": [
              "<Figure size 432x288 with 1 Axes>"
            ]
          },
          "metadata": {
            "tags": []
          }
        }
      ]
    },
    {
      "cell_type": "code",
      "metadata": {
        "id": "07lQ5v77JIxf",
        "colab_type": "code",
        "outputId": "5dd6d01b-0f1c-4f63-88ea-32a992435873",
        "colab": {
          "base_uri": "https://localhost:8080/",
          "height": 51
        }
      },
      "source": [
        "model.evaluate(X_test_pca,y_test)"
      ],
      "execution_count": 0,
      "outputs": [
        {
          "output_type": "stream",
          "text": [
            "150/150 [==============================] - 0s 1ms/step\n"
          ],
          "name": "stdout"
        },
        {
          "output_type": "execute_result",
          "data": {
            "text/plain": [
              "[0.0037526561451765397, 1.0]"
            ]
          },
          "metadata": {
            "tags": []
          },
          "execution_count": 22
        }
      ]
    },
    {
      "cell_type": "code",
      "metadata": {
        "id": "NreWf8xbJIxh",
        "colab_type": "code",
        "colab": {}
      },
      "source": [
        ""
      ],
      "execution_count": 0,
      "outputs": []
    }
  ]
}